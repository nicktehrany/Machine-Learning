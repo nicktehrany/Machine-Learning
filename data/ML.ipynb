{
 "cells": [
  {
   "cell_type": "code",
   "execution_count": 1,
   "metadata": {},
   "outputs": [
    {
     "name": "stderr",
     "output_type": "stream",
     "text": [
      "[nltk_data] Downloading package wordnet to\n",
      "[nltk_data]     /home/nicktehrany/nltk_data...\n",
      "[nltk_data]   Package wordnet is already up-to-date!\n",
      "[nltk_data] Downloading package stopwords to\n",
      "[nltk_data]     /home/nicktehrany/nltk_data...\n",
      "[nltk_data]   Package stopwords is already up-to-date!\n"
     ]
    }
   ],
   "source": [
    "import numpy as np\n",
    "import pandas as pd # for loading data\n",
    "import sklearn \n",
    "import matplotlib.pyplot as plt\n",
    "import re # for removing special characters\n",
    "from nltk.stem import WordNetLemmatizer\n",
    "wordnet_lemmatizer = WordNetLemmatizer()\n",
    "import nltk\n",
    "nltk.download('wordnet')\n",
    "nltk.download('stopwords')\n",
    "from nltk.corpus import stopwords # For removing stopwords\n",
    "from sklearn.model_selection import train_test_split\n",
    "from sklearn.linear_model import LogisticRegression\n",
    "from sklearn.feature_extraction.text import TfidfVectorizer\n",
    "from sklearn.metrics import accuracy_score, precision_score, recall_score, f1_score\n",
    "\n",
    "%matplotlib inline"
   ]
  },
  {
   "cell_type": "code",
   "execution_count": 2,
   "metadata": {},
   "outputs": [],
   "source": [
    "df = pd.read_csv(\"dataset.csv\")\n",
    "df = df.drop(['Singer', 'Date', 'Tags'], axis=1)"
   ]
  },
  {
   "cell_type": "markdown",
   "metadata": {},
   "source": [
    "## Cleaning Lyrics (Lemmatizing, etc..) (Only for the first 100 songs right now)"
   ]
  },
  {
   "cell_type": "code",
   "execution_count": 3,
   "metadata": {},
   "outputs": [],
   "source": [
    "corpus = []\n",
    "formatted_text=\"\"\n",
    "lyrics = df['Lyrics']\n",
    "sw = stopwords.words(\"english\")\n",
    "for i in range(0, 14400):\n",
    "    text = re.sub('[^a-zA-Z]', ' ', str(lyrics[i])) # removes special characters\n",
    "    text = text.lower() # lowercases everything\n",
    "    text = text.split() # splits words\n",
    "    text = [wordnet_lemmatizer.lemmatize(word, pos=\"v\") for word in text if not word in set(sw)]\n",
    "    formatted_text = \"\"\n",
    "    for word in text:\n",
    "        formatted_text+=word+\" \"\n",
    "    corpus.append(formatted_text)\n",
    "lyrics = corpus\n",
    "for i in range(0,14400):\n",
    "    df['Lyrics'][i] = lyrics[i]"
   ]
  },
  {
   "cell_type": "markdown",
   "metadata": {},
   "source": [
    "## Partitioning the dataset into test and train sets"
   ]
  },
  {
   "cell_type": "code",
   "execution_count": 4,
   "metadata": {},
   "outputs": [],
   "source": [
    "lyrics = df['Lyrics'][0:14400]\n",
    "genre = df['Genre'][0:14400]\n",
    "lyrics_train, lyrics_test, genre_train, genre_test = train_test_split(lyrics, genre, train_size = 0.85, test_size = 0.15, shuffle=True) "
   ]
  },
  {
   "cell_type": "code",
   "execution_count": 5,
   "metadata": {},
   "outputs": [],
   "source": [
    "vectorizer = TfidfVectorizer(min_df = 4)\n",
    "train_data_tfid = vectorizer.fit_transform(lyrics_train).toarray() # Count Term Frequencies\n",
    "test_data = vectorizer.transform(lyrics_test).toarray()"
   ]
  },
  {
   "cell_type": "code",
   "execution_count": 6,
   "metadata": {},
   "outputs": [
    {
     "name": "stderr",
     "output_type": "stream",
     "text": [
      "/home/nicktehrany/.local/lib/python3.6/site-packages/sklearn/linear_model/logistic.py:432: FutureWarning: Default solver will be changed to 'lbfgs' in 0.22. Specify a solver to silence this warning.\n",
      "  FutureWarning)\n",
      "/home/nicktehrany/.local/lib/python3.6/site-packages/sklearn/linear_model/logistic.py:469: FutureWarning: Default multi_class will be changed to 'auto' in 0.22. Specify the multi_class option to silence this warning.\n",
      "  \"this warning.\", FutureWarning)\n"
     ]
    },
    {
     "name": "stdout",
     "output_type": "stream",
     "text": [
      "Evaluation using LogisticRegression Classifer\n",
      "Accuracy score = 0.5162037037037037\n",
      "Precision score = 0.5162037037037037\n",
      "Recall score = 0.5162037037037037\n",
      "F1 score = 0.5162037037037037\n",
      "---------------------------------------------------\n"
     ]
    }
   ],
   "source": [
    "# Classification using LogisticRegression\n",
    "lgr_clf = LogisticRegression() \n",
    "lgr_clf.fit(train_data_tfid, genre_train)\n",
    "predictions = lgr_clf.predict(test_data)\n",
    "print('Evaluation using LogisticRegression Classifer')\n",
    "print('Accuracy score = {}'.format(accuracy_score(genre_test, predictions)))\n",
    "print('Precision score = {}'.format(precision_score(genre_test, predictions, average = 'micro')))\n",
    "print('Recall score = {}'.format(recall_score(genre_test, predictions, average = 'micro')))\n",
    "print('F1 score = {}'.format(f1_score(genre_test, predictions, average = 'micro')))\n",
    "print('---------------------------------------------------')"
   ]
  },
  {
   "cell_type": "code",
   "execution_count": null,
   "metadata": {},
   "outputs": [],
   "source": []
  }
 ],
 "metadata": {
  "kernelspec": {
   "display_name": "Python 3",
   "language": "python",
   "name": "python3"
  },
  "language_info": {
   "codemirror_mode": {
    "name": "ipython",
    "version": 3
   },
   "file_extension": ".py",
   "mimetype": "text/x-python",
   "name": "python",
   "nbconvert_exporter": "python",
   "pygments_lexer": "ipython3",
   "version": "3.6.8"
  }
 },
 "nbformat": 4,
 "nbformat_minor": 2
}
