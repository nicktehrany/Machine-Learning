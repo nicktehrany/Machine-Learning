{
 "cells": [
  {
   "cell_type": "code",
   "execution_count": 2,
   "metadata": {},
   "outputs": [
    {
     "name": "stderr",
     "output_type": "stream",
     "text": [
      "[nltk_data] Downloading package wordnet to /root/nltk_data...\n",
      "[nltk_data]   Package wordnet is already up-to-date!\n",
      "[nltk_data] Downloading package stopwords to /root/nltk_data...\n",
      "[nltk_data]   Package stopwords is already up-to-date!\n"
     ]
    }
   ],
   "source": [
    "import pandas as pd # for loading data\n",
    "import scipy.stats as stats\n",
    "import pylab as pl\n",
    "import numpy as np\n",
    "import matplotlib.pyplot as plt\n",
    "from collections import Counter # For counting word frequencies\n",
    "import re # for removing special characters\n",
    "from nltk.stem import WordNetLemmatizer\n",
    "wordnet_lemmatizer = WordNetLemmatizer()\n",
    "import nltk\n",
    "nltk.download('wordnet')\n",
    "nltk.download('stopwords')\n",
    "from nltk.corpus import stopwords # For removing stopwords\n",
    "\n",
    "\n",
    "from sklearn.model_selection import train_test_split"
   ]
  },
  {
   "cell_type": "code",
   "execution_count": 3,
   "metadata": {},
   "outputs": [],
   "source": [
    "# odf = pd.read_csv('songs_dataset.csv')"
   ]
  },
  {
   "cell_type": "code",
   "execution_count": 4,
   "metadata": {},
   "outputs": [],
   "source": [
    "# odf_genre_count = odf['Genre'].value_counts()\n",
    "# #print(odf_genre_count)\n",
    "# odf_genre_count = odf_genre_count[0:15]\n",
    "# #odf_genre_count.plot(kind=\"bar\", title=\"Original Dataset Genre Frequency\")"
   ]
  },
  {
   "cell_type": "code",
   "execution_count": 5,
   "metadata": {},
   "outputs": [
    {
     "data": {
      "text/plain": [
       "<matplotlib.axes._subplots.AxesSubplot at 0x7ff5f027e6d0>"
      ]
     },
     "execution_count": 5,
     "metadata": {},
     "output_type": "execute_result"
    },
    {
     "data": {
      "image/png": "[encoded data removed]",
      "text/plain": [
       "<Figure size 432x288 with 1 Axes>"
      ]
     },
     "metadata": {
      "needs_background": "light"
     },
     "output_type": "display_data"
    }
   ],
   "source": [
    "edf = pd.read_csv('dataset.csv')\n",
    "edf_genre_count = edf['Genre'].value_counts()\n",
    "# print(odf_genre_count)\n",
    "edf_genre_count.plot(kind=\"bar\", title=\"New Dataset Genre Frequency\")"
   ]
  },
  {
   "cell_type": "markdown",
   "metadata": {},
   "source": [
    "## Finding the most common words for each genre"
   ]
  },
  {
   "cell_type": "code",
   "execution_count": 30,
   "metadata": {},
   "outputs": [],
   "source": [
    "corpus_rap = []\n",
    "corpus_pop = []\n",
    "corpus_rock = []\n",
    "corpus_folk = []\n",
    "corpus_country = []\n",
    "corpus_metal = []\n",
    "corpus_indie = []\n",
    "corpus_rb = []\n",
    "lyrics = edf['Lyrics']\n",
    "sw = stopwords.words(\"english\")\n",
    "for i in range(0, len(lyrics)):\n",
    "    text = re.sub('[^a-zA-Z]', ' ', str(lyrics[i])) # removes special characters\n",
    "    text = text.lower() # lowercases everything\n",
    "    text = text.split() # splits words\n",
    "    text = [wordnet_lemmatizer.lemmatize(word, pos=\"v\") for word in text if not word in set(sw)]\n",
    "    for word in text:\n",
    "        value = edf['Genre'][i]\n",
    "        if value == '[\\'Pop\\']':\n",
    "            corpus_pop.append(word)\n",
    "        elif value == '[\\'Rock\\']':\n",
    "            corpus_rock.append(word)\n",
    "        elif value == '[\\'Hip-Hop/Rap\\']':\n",
    "            corpus_rap.append(word)\n",
    "        elif value == '[\\'Country\\']':\n",
    "            corpus_country.append(word)\n",
    "        elif value == '[\\'R&B/Soul\\']':\n",
    "            corpus_rb.append(word)\n",
    "        elif value == '[\\'Metal\\']':\n",
    "            corpus_metal.append(word)\n",
    "        elif value == '[\\'Alternative/Indie\\']':\n",
    "            corpus_indie.append(word)\n",
    "        elif value == '[\\'Folk\\']':\n",
    "            corpus_folk.append(word)"
   ]
  },
  {
   "cell_type": "code",
   "execution_count": 31,
   "metadata": {},
   "outputs": [
    {
     "name": "stdout",
     "output_type": "stream",
     "text": [
      "Rap:  [('get', 13637), ('like', 7291), ('nigga', 6552), ('niggas', 5331), ('know', 4975), ('bitch', 4810), ('fuck', 4736), ('shit', 3829), ('go', 3756), ('yeah', 3686)]\n",
      "Pop:  [('get', 4161), ('love', 3435), ('know', 2995), ('oh', 2951), ('go', 2539), ('like', 2365), ('say', 1984), ('yeah', 1889), ('baby', 1844), ('come', 1840)]\n",
      "Rock:  [('get', 4186), ('know', 3034), ('go', 2941), ('like', 2401), ('love', 2313), ('say', 2136), ('time', 1940), ('make', 1762), ('take', 1699), ('come', 1663)]\n",
      "Folk:  [('go', 2780), ('know', 2505), ('get', 2347), ('oh', 2269), ('love', 2120), ('come', 2073), ('say', 1906), ('like', 1813), ('see', 1551), ('one', 1325)]\n",
      "Country:  [('get', 4027), ('love', 3093), ('go', 2861), ('know', 2567), ('like', 2477), ('say', 1819), ('yeah', 1779), ('oh', 1747), ('time', 1528), ('come', 1492)]\n",
      "Metal:  [('get', 2854), ('know', 2600), ('go', 2333), ('time', 2242), ('like', 2050), ('never', 1913), ('take', 1898), ('see', 1868), ('come', 1832), ('one', 1701)]\n",
      "Indie:  [('get', 5724), ('know', 5076), ('like', 4802), ('love', 3771), ('oh', 3298), ('go', 3259), ('yeah', 2631), ('say', 2385), ('feel', 2374), ('make', 2335)]\n",
      "R&B:  [('get', 8440), ('know', 6568), ('love', 5974), ('like', 5338), ('baby', 4786), ('oh', 4296), ('yeah', 4229), ('go', 4199), ('let', 3319), ('girl', 3309)]\n"
     ]
    }
   ],
   "source": [
    "# Printing 10 most common words for each genre\n",
    "print(\"Rap: \", Counter(corpus_rap).most_common(10))\n",
    "print(\"Pop: \", Counter(corpus_pop).most_common(10))\n",
    "print(\"Rock: \", Counter(corpus_rock).most_common(10))\n",
    "print(\"Folk: \", Counter(corpus_folk).most_common(10))\n",
    "print(\"Country: \", Counter(corpus_country).most_common(10))\n",
    "print(\"Metal: \", Counter(corpus_metal).most_common(10))\n",
    "print(\"Indie: \", Counter(corpus_indie).most_common(10))\n",
    "print(\"R&B: \", Counter(corpus_rb).most_common(10))"
   ]
  },
  {
   "cell_type": "markdown",
   "metadata": {},
   "source": [
    "## Frequency Analysis on the release dates of the songs"
   ]
  },
  {
   "cell_type": "code",
   "execution_count": 6,
   "metadata": {},
   "outputs": [],
   "source": [
    "date_count = edf['Date'].value_counts()\n",
    "#print(date_count)\n",
    "# date_count[0:20].plot(kind=\"bar\", color=\"red\", title=\"Genre\")\n",
    "singer_count = edf['Singer'].value_counts()\n",
    "#print(singer_count)\n",
    "#singer_count[0:20].plot(kind=\"bar\", color=\"red\", title=\"Singers\")"
   ]
  },
  {
   "cell_type": "markdown",
   "metadata": {},
   "source": [
    "## Error Bars for the accuracy scores of the neural networks"
   ]
  },
  {
   "cell_type": "code",
   "execution_count": 106,
   "metadata": {},
   "outputs": [],
   "source": [
    "import numpy as np\n",
    "\n",
    "cnn_train = np.array([57.88, 58.17, 59.01, 58.91, 58.29, 58.23, 57.67, 58.40, 58.79, 58.39])\n",
    "cnn_test = np.array([48.56, 48.37, 48.19, 47.54, 48.75, 47.82, 48.19, 47.96, 46.01, 47.64])\n",
    "cnn_val = np.array([47.01, 46.45, 47.90, 48.04, 47.48, 47.71, 47.11, 46.69, 48.13, 48.37])\n",
    "nn_train = np.array([54.79, 54.74, 54.46, 54.50, 54.21, 55.11, 54.31, 54.12, 55.00, 54.37])\n",
    "nn_val = np.array([54.01, 53.97, 54.15, 54.30, 53.83, 54.48, 54.76, 53.64, 54.58, 53.45])\n",
    "nn_test = np.array([54.48, 55.03, 54.79, 55.12, 55.19, 55.83, 55.00, 54.07, 55.23, 55.42])"
   ]
  },
  {
   "cell_type": "code",
   "execution_count": 107,
   "metadata": {},
   "outputs": [],
   "source": [
    "# Calculate the average\n",
    "cnn_train_mean = np.mean(cnn_train)\n",
    "cnn_test_mean = np.mean(cnn_test)\n",
    "cnn_val_mean = np.mean(cnn_val)\n",
    "nn_train_mean = np.mean(nn_train)\n",
    "nn_test_mean = np.mean(nn_test)\n",
    "nn_val_mean = np.mean(nn_val)"
   ]
  },
  {
   "cell_type": "code",
   "execution_count": 108,
   "metadata": {},
   "outputs": [],
   "source": [
    "# Calculate the standard deviation\n",
    "cnn_train_std = np.std(cnn_train)\n",
    "cnn_test_std = np.std(cnn_test)\n",
    "cnn_val_std = np.std(cnn_val)\n",
    "nn_train_std = np.std(nn_train)\n",
    "nn_test_std = np.std(nn_test)\n",
    "nn_val_std = np.std(nn_val)"
   ]
  },
  {
   "cell_type": "code",
   "execution_count": 109,
   "metadata": {},
   "outputs": [],
   "source": [
    "# Create lists for the plot\n",
    "sets = ['CNN Train', 'CNN Val', 'CNN Test', 'ANN Train', 'ANN Val', 'ANN Test',]\n",
    "x_pos = np.arange(len(sets))\n",
    "CTEs = [cnn_train_mean, cnn_val_mean, cnn_test_mean, nn_train_mean, nn_val_mean, nn_test_mean]\n",
    "error = [cnn_train_std, cnn_val_std, cnn_test_std, nn_train_std, nn_val_std, nn_test_std]"
   ]
  },
  {
   "cell_type": "code",
   "execution_count": 110,
   "metadata": {},
   "outputs": [
    {
     "data": {
      "image/png": "[encoded data removed]",
      "text/plain": [
       "<Figure size 432x288 with 1 Axes>"
      ]
     },
     "metadata": {
      "needs_background": "light"
     },
     "output_type": "display_data"
    }
   ],
   "source": [
    "import matplotlib.pyplot as plt\n",
    "import matplotlib.ticker as ticker\n",
    "\n",
    "# Build the plot\n",
    "fig, ax = plt.subplots()\n",
    "plot = ax.bar(x_pos, CTEs, yerr=error, align='center', alpha=0.5, ecolor='black', capsize=10)\n",
    "ax.set_ylabel('Accuracy')\n",
    "ax.set_xlabel('Models')\n",
    "ax.set_xticks(x_pos)\n",
    "ax.set_xticklabels(sets)\n",
    "ax.set_title('Model Accuracy')\n",
    "ax.yaxis.grid(True)\n",
    "plot[0].set_color('orange')\n",
    "plot[1].set_color('green')\n",
    "plot[2].set_color('red')\n",
    "plot[3].set_color('orange')\n",
    "plot[4].set_color('green')\n",
    "plot[5].set_color('red')\n",
    "ax.yaxis.set_major_formatter(ticker.PercentFormatter())\n",
    "ax.set_ylim([40,60])\n",
    "\n",
    "# Save the figure and show\n",
    "plt.tight_layout()\n",
    "plt.savefig('nn_error_bars.png')\n",
    "plt.show()"
   ]
  },
  {
   "cell_type": "code",
   "execution_count": 93,
   "metadata": {},
   "outputs": [
    {
     "name": "stdout",
     "output_type": "stream",
     "text": [
      "47.903\n"
     ]
    }
   ],
   "source": [
    "print(cnn_test_mean)"
   ]
  },
  {
   "cell_type": "code",
   "execution_count": null,
   "metadata": {},
   "outputs": [],
   "source": []
  }
 ],
 "metadata": {
  "kernelspec": {
   "display_name": "Python 3",
   "language": "python",
   "name": "python3"
  },
  "language_info": {
   "codemirror_mode": {
    "name": "ipython",
    "version": 3
   },
   "file_extension": ".py",
   "mimetype": "text/x-python",
   "name": "python",
   "nbconvert_exporter": "python",
   "pygments_lexer": "ipython3",
   "version": "3.7.6"
  }
 },
 "nbformat": 4,
 "nbformat_minor": 2
}
