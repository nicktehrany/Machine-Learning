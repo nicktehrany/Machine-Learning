{
 "cells": [
  {
   "cell_type": "code",
   "execution_count": 1,
   "metadata": {},
   "outputs": [
    {
     "name": "stderr",
     "output_type": "stream",
     "text": [
      "[nltk_data] Downloading package wordnet to\n",
      "[nltk_data]     /home/nicktehrany/nltk_data...\n",
      "[nltk_data]   Package wordnet is already up-to-date!\n",
      "[nltk_data] Downloading package stopwords to\n",
      "[nltk_data]     /home/nicktehrany/nltk_data...\n",
      "[nltk_data]   Package stopwords is already up-to-date!\n"
     ]
    }
   ],
   "source": [
    "import pandas as pd # for loading data\n",
    "import scipy.stats as stats\n",
    "import pylab as pl\n",
    "import numpy as np\n",
    "import matplotlib.pyplot as plt\n",
    "from collections import Counter # For counting word frequencies\n",
    "import re # for removing special characters\n",
    "from nltk.stem import WordNetLemmatizer\n",
    "wordnet_lemmatizer = WordNetLemmatizer()\n",
    "import nltk\n",
    "nltk.download('wordnet')\n",
    "nltk.download('stopwords')\n",
    "from nltk.corpus import stopwords # For removing stopwords\n",
    "\n",
    "\n",
    "from sklearn.model_selection import train_test_split"
   ]
  },
  {
   "cell_type": "code",
   "execution_count": 2,
   "metadata": {},
   "outputs": [],
   "source": [
    "# odf = pd.read_csv('songs_dataset.csv')"
   ]
  },
  {
   "cell_type": "code",
   "execution_count": 3,
   "metadata": {},
   "outputs": [],
   "source": [
    "# odf_genre_count = odf['Genre'].value_counts()\n",
    "# #print(odf_genre_count)\n",
    "# odf_genre_count = odf_genre_count[0:15]\n",
    "# #odf_genre_count.plot(kind=\"bar\", title=\"Original Dataset Genre Frequency\")"
   ]
  },
  {
   "cell_type": "code",
   "execution_count": 4,
   "metadata": {},
   "outputs": [
    {
     "data": {
      "text/plain": [
       "<matplotlib.axes._subplots.AxesSubplot at 0x7f598551b450>"
      ]
     },
     "execution_count": 4,
     "metadata": {},
     "output_type": "execute_result"
    },
    {
     "data": {
      "image/png": "[encoded data removed]",
      "text/plain": [
       "<Figure size 432x288 with 1 Axes>"
      ]
     },
     "metadata": {
      "needs_background": "light"
     },
     "output_type": "display_data"
    }
   ],
   "source": [
    "edf = pd.read_csv('dataset.csv')\n",
    "edf_genre_count = edf['Genre'].value_counts()\n",
    "# print(odf_genre_count)\n",
    "edf_genre_count.plot(kind=\"bar\", title=\"New Dataset Genre Frequency\")"
   ]
  },
  {
   "cell_type": "markdown",
   "metadata": {},
   "source": [
    "## Cleaning Lyrics (Lemmatizing, etc..) and counting each words frequency (Only for the first ten songs right now) **Has dropping of words with frequency count below a certain number**"
   ]
  },
  {
   "cell_type": "code",
   "execution_count": 5,
   "metadata": {},
   "outputs": [
    {
     "name": "stdout",
     "output_type": "stream",
     "text": [
      "Counter({'killer': 31, 'fuck': 16, 'nine': 13, 'gon': 12, 'cock': 12, 'kill': 12, 'motherfucker': 12, 'mane': 5, 'ring': 4, 'bitch': 3, 'hoe': 3, 'chain': 2, 'cause': 2, 'go': 2, 'store': 2, 'leave': 2, 'blow': 2, 'bag': 2, 'like': 2, 'get': 2, 'phone': 2, 'live': 2, 'nowmane': 1, 'fifty': 1, 'shade': 1, 'grey': 1, 'still': 1, 'glow': 1, 'shin': 1, 'diamond': 1, 'birthstone': 1, 'change': 1, 'dope': 1, 'cocaine': 1, 'look': 1, 'crow': 1, 'kick': 1, 'brandon': 1, 'blood': 1, 'ice': 1, 'cold': 1, 'vein': 1, 'carecrow': 1, 'make': 1, 'escrow': 1, 'gain': 1, 'pimp': 1, 'freeze': 1, 'old': 1, 'black': 1, 'mustang': 1, 'alone': 1, 'yesterday': 1, 'ride': 1, 'bike': 1, 'moon': 1, 'think': 1, 'trippin': 1, 'shrooms': 1, 'smoke': 1, 'pcp': 1, 'crimmy': 1, 'mentally': 1, 'penitentiary': 1, 'meth': 1, 'lab': 1, 'chemistry': 1, 'heisenberg': 1, 'burbs': 1, 'talk': 1, 'slur': 1, 'bird': 1, 'kickin': 1, 'curb': 1, 'yung': 1, 'christ': 1, 'save': 1, 'world': 1, 'crucify': 1, 'upside': 1, 'rotten': 1, 'nail': 1, 'move': 1, 'snail': 1, 'drink': 1, 'lean': 1, 'ginger': 1, 'ale': 1, 'police': 1, 'tail': 1, 'couple': 1, 'goonies': 1, 'jail': 1, 'hell': 1, 'chillin': 1, 'well': 1, 'rather': 1, 'roll': 1, 'six': 1, 'feet': 1, 'dirt': 1, 'bury': 1, 'know': 1, 'squirt': 1, 'ho': 1, 'oh': 1, 'harder': 1})\n",
      "Counter({'killer': 31, 'fuck': 16, 'nine': 13, 'gon': 12, 'cock': 12, 'kill': 12, 'motherfucker': 12, 'mane': 5, 'ring': 4, 'bitch': 3, 'hoe': 3})\n"
     ]
    }
   ],
   "source": [
    "corpus = []\n",
    "lyrics = edf['Lyrics']\n",
    "sw = stopwords.words(\"english\")\n",
    "for i in range(0, 1):\n",
    "    text = re.sub('[^a-zA-Z]', ' ', str(lyrics[i])) # removes special characters\n",
    "    text = text.lower() # lowercases everything\n",
    "    text = text.split() # splits words\n",
    "    text = [wordnet_lemmatizer.lemmatize(word, pos=\"v\") for word in text if not word in set(sw)]\n",
    "    corpus.append(text)\n",
    "    \n",
    "    #Removes all words occuting less than 3 times\n",
    "    counts = Counter(text)\n",
    "    print(counts)\n",
    "    index = 0\n",
    "    for words in counts:\n",
    "        if list(counts.values())[index] < 3:\n",
    "            text = list(filter((list(counts.keys())[index]).__ne__, text))\n",
    "        index += 1\n",
    "    counts = Counter(text)\n",
    "    print(counts)\n",
    "# lyrics = corpus\n",
    "# for text in lyrics:\n",
    "#     counts = Counter(text)\n",
    "#     print(counts.most_common(20))\n",
    "#     print(\"\\n\")"
   ]
  },
  {
   "cell_type": "markdown",
   "metadata": {},
   "source": [
    "## Frequency Analysis on the release dates of the songs"
   ]
  },
  {
   "cell_type": "code",
   "execution_count": 6,
   "metadata": {},
   "outputs": [],
   "source": [
    "date_count = edf['Date'].value_counts()\n",
    "#print(date_count)\n",
    "# date_count[0:20].plot(kind=\"bar\", color=\"red\", title=\"Genre\")\n",
    "singer_count = edf['Singer'].value_counts()\n",
    "#print(singer_count)\n",
    "#singer_count[0:20].plot(kind=\"bar\", color=\"red\", title=\"Singers\")"
   ]
  },
  {
   "cell_type": "markdown",
   "metadata": {},
   "source": [
    "## Error Bars for the accuracy scores of the neural networks"
   ]
  },
  {
   "cell_type": "code",
   "execution_count": 94,
   "metadata": {},
   "outputs": [],
   "source": [
    "import numpy as np\n",
    "\n",
    "cnn_train = np.array([57.88, 58.17, 59.01, 58.91, 58.29, 58.23, 57.67, 58.40, 58.79, 58.39])\n",
    "cnn_test = np.array([48.56, 48.37, 48.19, 47.54, 48.75, 47.82, 48.19, 47.96, 46.01, 47.64])\n",
    "cnn_val = np.array([47.01, 46.45, 47.90, 48.04, 47.48, 47.71, 47.11, 46.69, 48.13, 48.37])\n",
    "nn_train = np.array([54.79, 54.74, 54.46, 54.50, 54.21, 55.11, 54.31, 54.12, 55.00, 54.37])\n",
    "nn_test = np.array([54.01, 53.97, 54.15, 54.30, 53.83, 54.48, 54.76, 53.64, 54.58, 53.45])\n",
    "nn_val = np.array([54.48, 55.03, 54.79, 55.12, 55.19, 55.83, 55.00, 54.07, 55.23, 55.42])"
   ]
  },
  {
   "cell_type": "code",
   "execution_count": 95,
   "metadata": {},
   "outputs": [],
   "source": [
    "# Calculate the average\n",
    "cnn_train_mean = np.mean(cnn_train)\n",
    "cnn_test_mean = np.mean(cnn_test)\n",
    "cnn_val_mean = np.mean(cnn_val)\n",
    "nn_train_mean = np.mean(nn_train)\n",
    "nn_test_mean = np.mean(nn_test)\n",
    "nn_val_mean = np.mean(nn_val)"
   ]
  },
  {
   "cell_type": "code",
   "execution_count": 96,
   "metadata": {},
   "outputs": [],
   "source": [
    "# Calculate the standard deviation\n",
    "cnn_train_std = np.std(cnn_train)\n",
    "cnn_test_std = np.std(cnn_test)\n",
    "cnn_val_std = np.std(cnn_val)\n",
    "nn_train_std = np.std(nn_train)\n",
    "nn_test_std = np.std(nn_test)\n",
    "nn_val_std = np.std(nn_val)"
   ]
  },
  {
   "cell_type": "code",
   "execution_count": 97,
   "metadata": {},
   "outputs": [],
   "source": [
    "# Create lists for the plot\n",
    "sets = ['CNN Train', 'CNN Val', 'CNN Test', 'ANN Train', 'ANN Val', 'ANN Test',]\n",
    "x_pos = np.arange(len(sets))\n",
    "CTEs = [cnn_train_mean, cnn_val_mean, cnn_test_mean, nn_train_mean, nn_val_mean, nn_test_mean]\n",
    "error = [cnn_train_std, cnn_val_std, cnn_test_std, nn_train_std, nn_val_std, nn_test_std]"
   ]
  },
  {
   "cell_type": "code",
   "execution_count": 105,
   "metadata": {},
   "outputs": [
    {
     "data": {
      "image/png": "[encoded data removed]",
      "text/plain": [
       "<Figure size 432x288 with 1 Axes>"
      ]
     },
     "metadata": {
      "needs_background": "light"
     },
     "output_type": "display_data"
    }
   ],
   "source": [
    "import matplotlib.pyplot as plt\n",
    "import matplotlib.ticker as ticker\n",
    "\n",
    "# Build the plot\n",
    "fig, ax = plt.subplots()\n",
    "plot = ax.bar(x_pos, CTEs, yerr=error, align='center', alpha=0.5, ecolor='black', capsize=10)\n",
    "ax.set_ylabel('Accuracy')\n",
    "ax.set_xlabel('Models')\n",
    "ax.set_xticks(x_pos)\n",
    "ax.set_xticklabels(sets)\n",
    "ax.set_title('Model Accuracy')\n",
    "ax.yaxis.grid(True)\n",
    "plot[0].set_color('orange')\n",
    "plot[1].set_color('green')\n",
    "plot[2].set_color('red')\n",
    "plot[3].set_color('orange')\n",
    "plot[4].set_color('green')\n",
    "plot[5].set_color('red')\n",
    "ax.yaxis.set_major_formatter(ticker.PercentFormatter())\n",
    "ax.set_ylim([40,60])\n",
    "\n",
    "# Save the figure and show\n",
    "plt.tight_layout()\n",
    "plt.savefig('nn_error_bars.png')\n",
    "plt.show()"
   ]
  },
  {
   "cell_type": "code",
   "execution_count": 93,
   "metadata": {},
   "outputs": [
    {
     "name": "stdout",
     "output_type": "stream",
     "text": [
      "47.903\n"
     ]
    }
   ],
   "source": [
    "print(cnn_test_mean)"
   ]
  },
  {
   "cell_type": "code",
   "execution_count": null,
   "metadata": {},
   "outputs": [],
   "source": []
  }
 ],
 "metadata": {
  "kernelspec": {
   "display_name": "Python 3",
   "language": "python",
   "name": "python3"
  },
  "language_info": {
   "codemirror_mode": {
    "name": "ipython",
    "version": 3
   },
   "file_extension": ".py",
   "mimetype": "text/x-python",
   "name": "python",
   "nbconvert_exporter": "python",
   "pygments_lexer": "ipython3",
   "version": "3.7.5"
  }
 },
 "nbformat": 4,
 "nbformat_minor": 2
}
