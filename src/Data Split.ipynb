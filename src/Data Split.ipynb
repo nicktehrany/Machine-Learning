{
 "cells": [
  {
   "cell_type": "code",
   "execution_count": 18,
   "metadata": {},
   "outputs": [],
   "source": [
    "import pandas as pd # for loading data\n",
    "from sklearn.model_selection import train_test_split\n",
    "import random\n",
    "\n",
    "df = pd.read_csv(\"dataset.csv\")\n",
    "df = df.drop(['Singer', 'Date', 'Tags'], axis=1)\n",
    "all_lyrics = df['Lyrics']\n",
    "genres = df['Genre']\n",
    "lyrics_train, lyrics_test, genre_train, genre_test = train_test_split(all_lyrics, genres, train_size = 0.85, test_size = 0.15, shuffle=True,random_state=random.randint(0,9999999)) \n"
   ]
  },
  {
   "cell_type": "code",
   "execution_count": 19,
   "metadata": {},
   "outputs": [],
   "source": [
    "lyrics_train, lyrics_val, genre_train, genre_val = train_test_split(lyrics_train, genre_train, train_size = 0.825, test_size = 0.175, shuffle=True,random_state=random.randint(0,9999999)) "
   ]
  },
  {
   "cell_type": "code",
   "execution_count": 20,
   "metadata": {},
   "outputs": [],
   "source": [
    "train_df = pd.DataFrame({ \"Lyrics\" :lyrics_train, \"Genre\": genre_train}).reset_index(drop=True)\n",
    "train_df.to_csv('train.csv', index=False)\n",
    "\n",
    "val_df = pd.DataFrame({ \"Lyrics\" :lyrics_val, \"Genre\": genre_val}).reset_index(drop=True)\n",
    "val_df.to_csv('validation.csv', index=False)\n",
    "\n",
    "test_df = pd.DataFrame({ \"Lyrics\" :lyrics_test, \"Genre\": genre_test}).reset_index(drop=True)\n",
    "test_df.to_csv('test.csv', index=False)"
   ]
  },
  {
   "cell_type": "code",
   "execution_count": null,
   "metadata": {},
   "outputs": [],
   "source": []
  }
 ],
 "metadata": {
  "kernelspec": {
   "display_name": "Python 3",
   "language": "python",
   "name": "python3"
  },
  "language_info": {
   "codemirror_mode": {
    "name": "ipython",
    "version": 3
   },
   "file_extension": ".py",
   "mimetype": "text/x-python",
   "name": "python",
   "nbconvert_exporter": "python",
   "pygments_lexer": "ipython3",
   "version": "3.6.8"
  }
 },
 "nbformat": 4,
 "nbformat_minor": 2
}
