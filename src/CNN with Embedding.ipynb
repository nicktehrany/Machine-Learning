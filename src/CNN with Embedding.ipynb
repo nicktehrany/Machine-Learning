{
 "cells": [
  {
   "cell_type": "code",
   "execution_count": 1,
   "metadata": {},
   "outputs": [],
   "source": [
    "import numpy as np\n",
    "import pandas as pd # for loading data"
   ]
  },
  {
   "cell_type": "code",
   "execution_count": 2,
   "metadata": {},
   "outputs": [
    {
     "name": "stdout",
     "output_type": "stream",
     "text": [
      "/home/nicktehrany/Documents/Uni/3rd Year/P4/Machine Learning/Project\n"
     ]
    }
   ],
   "source": [
    "cd .."
   ]
  },
  {
   "cell_type": "code",
   "execution_count": 3,
   "metadata": {},
   "outputs": [
    {
     "name": "stderr",
     "output_type": "stream",
     "text": [
      "/home/nicktehrany/.local/lib/python3.7/site-packages/tensorflow/python/framework/dtypes.py:516: FutureWarning: Passing (type, 1) or '1type' as a synonym of type is deprecated; in a future version of numpy, it will be understood as (type, (1,)) / '(1,)type'.\n",
      "  _np_qint8 = np.dtype([(\"qint8\", np.int8, 1)])\n",
      "/home/nicktehrany/.local/lib/python3.7/site-packages/tensorflow/python/framework/dtypes.py:517: FutureWarning: Passing (type, 1) or '1type' as a synonym of type is deprecated; in a future version of numpy, it will be understood as (type, (1,)) / '(1,)type'.\n",
      "  _np_quint8 = np.dtype([(\"quint8\", np.uint8, 1)])\n",
      "/home/nicktehrany/.local/lib/python3.7/site-packages/tensorflow/python/framework/dtypes.py:518: FutureWarning: Passing (type, 1) or '1type' as a synonym of type is deprecated; in a future version of numpy, it will be understood as (type, (1,)) / '(1,)type'.\n",
      "  _np_qint16 = np.dtype([(\"qint16\", np.int16, 1)])\n",
      "/home/nicktehrany/.local/lib/python3.7/site-packages/tensorflow/python/framework/dtypes.py:519: FutureWarning: Passing (type, 1) or '1type' as a synonym of type is deprecated; in a future version of numpy, it will be understood as (type, (1,)) / '(1,)type'.\n",
      "  _np_quint16 = np.dtype([(\"quint16\", np.uint16, 1)])\n",
      "/home/nicktehrany/.local/lib/python3.7/site-packages/tensorflow/python/framework/dtypes.py:520: FutureWarning: Passing (type, 1) or '1type' as a synonym of type is deprecated; in a future version of numpy, it will be understood as (type, (1,)) / '(1,)type'.\n",
      "  _np_qint32 = np.dtype([(\"qint32\", np.int32, 1)])\n",
      "/home/nicktehrany/.local/lib/python3.7/site-packages/tensorflow/python/framework/dtypes.py:525: FutureWarning: Passing (type, 1) or '1type' as a synonym of type is deprecated; in a future version of numpy, it will be understood as (type, (1,)) / '(1,)type'.\n",
      "  np_resource = np.dtype([(\"resource\", np.ubyte, 1)])\n",
      "/home/nicktehrany/.local/lib/python3.7/site-packages/tensorboard/compat/tensorflow_stub/dtypes.py:541: FutureWarning: Passing (type, 1) or '1type' as a synonym of type is deprecated; in a future version of numpy, it will be understood as (type, (1,)) / '(1,)type'.\n",
      "  _np_qint8 = np.dtype([(\"qint8\", np.int8, 1)])\n",
      "/home/nicktehrany/.local/lib/python3.7/site-packages/tensorboard/compat/tensorflow_stub/dtypes.py:542: FutureWarning: Passing (type, 1) or '1type' as a synonym of type is deprecated; in a future version of numpy, it will be understood as (type, (1,)) / '(1,)type'.\n",
      "  _np_quint8 = np.dtype([(\"quint8\", np.uint8, 1)])\n",
      "/home/nicktehrany/.local/lib/python3.7/site-packages/tensorboard/compat/tensorflow_stub/dtypes.py:543: FutureWarning: Passing (type, 1) or '1type' as a synonym of type is deprecated; in a future version of numpy, it will be understood as (type, (1,)) / '(1,)type'.\n",
      "  _np_qint16 = np.dtype([(\"qint16\", np.int16, 1)])\n",
      "/home/nicktehrany/.local/lib/python3.7/site-packages/tensorboard/compat/tensorflow_stub/dtypes.py:544: FutureWarning: Passing (type, 1) or '1type' as a synonym of type is deprecated; in a future version of numpy, it will be understood as (type, (1,)) / '(1,)type'.\n",
      "  _np_quint16 = np.dtype([(\"quint16\", np.uint16, 1)])\n",
      "/home/nicktehrany/.local/lib/python3.7/site-packages/tensorboard/compat/tensorflow_stub/dtypes.py:545: FutureWarning: Passing (type, 1) or '1type' as a synonym of type is deprecated; in a future version of numpy, it will be understood as (type, (1,)) / '(1,)type'.\n",
      "  _np_qint32 = np.dtype([(\"qint32\", np.int32, 1)])\n",
      "/home/nicktehrany/.local/lib/python3.7/site-packages/tensorboard/compat/tensorflow_stub/dtypes.py:550: FutureWarning: Passing (type, 1) or '1type' as a synonym of type is deprecated; in a future version of numpy, it will be understood as (type, (1,)) / '(1,)type'.\n",
      "  np_resource = np.dtype([(\"resource\", np.ubyte, 1)])\n",
      "[nltk_data] Downloading package wordnet to\n",
      "[nltk_data]     /home/nicktehrany/nltk_data...\n",
      "[nltk_data]   Package wordnet is already up-to-date!\n",
      "[nltk_data] Downloading package stopwords to\n",
      "[nltk_data]     /home/nicktehrany/nltk_data...\n",
      "[nltk_data]   Package stopwords is already up-to-date!\n"
     ]
    }
   ],
   "source": [
    "# Importing our own Functions\n",
    "from util.helperfunctions import one_hot, one_hot_genres, cnn_clean_text, one_hot_reverse"
   ]
  },
  {
   "cell_type": "code",
   "execution_count": 4,
   "metadata": {},
   "outputs": [
    {
     "name": "stdout",
     "output_type": "stream",
     "text": [
      "/home/nicktehrany/Documents/Uni/3rd Year/P4/Machine Learning/Project/src\n"
     ]
    }
   ],
   "source": [
    "cd src"
   ]
  },
  {
   "cell_type": "code",
   "execution_count": 5,
   "metadata": {},
   "outputs": [],
   "source": [
    "train_df = pd.read_csv(\"train.csv\")"
   ]
  },
  {
   "cell_type": "code",
   "execution_count": 6,
   "metadata": {},
   "outputs": [],
   "source": [
    "lyrics, max_len, word_list = cnn_clean_text(train_df['Lyrics'], 1)\n",
    "\n",
    "# writing cleaned text back to df\n",
    "index = 0\n",
    "for text in lyrics:\n",
    "    train_df['Lyrics'][index] = text\n",
    "    index+=1\n",
    "del lyrics"
   ]
  },
  {
   "cell_type": "code",
   "execution_count": 7,
   "metadata": {},
   "outputs": [],
   "source": [
    "words = []\n",
    "words.append('<PAD>')\n",
    "for word in word_list:\n",
    "    words.append(word)"
   ]
  },
  {
   "cell_type": "code",
   "execution_count": 8,
   "metadata": {},
   "outputs": [],
   "source": [
    "train_lyrics = np.zeros(shape=(len(train_df), max_len))\n",
    "\n",
    "row_index = 0\n",
    "for row in train_df['Lyrics']:\n",
    "    single_words = row.split()\n",
    "    col_index = 0\n",
    "    for word in single_words:\n",
    "        train_lyrics[row_index][col_index] = words.index(word)\n",
    "        col_index+=1\n",
    "    row_index+=1"
   ]
  },
  {
   "cell_type": "code",
   "execution_count": 9,
   "metadata": {},
   "outputs": [
    {
     "name": "stdout",
     "output_type": "stream",
     "text": [
      "(10098, 1525)\n"
     ]
    }
   ],
   "source": [
    "print(train_lyrics.shape)"
   ]
  },
  {
   "cell_type": "code",
   "execution_count": 10,
   "metadata": {},
   "outputs": [],
   "source": [
    "train_genres = one_hot_genres(train_df['Genre'])"
   ]
  },
  {
   "cell_type": "code",
   "execution_count": 11,
   "metadata": {},
   "outputs": [],
   "source": [
    "val_df = pd.read_csv(\"validation.csv\")\n",
    "lyrics, dummy_len, dummy_list = cnn_clean_text(val_df['Lyrics'], 0)\n",
    "\n",
    "# writing cleaned text back to df\n",
    "index = 0\n",
    "for text in lyrics:\n",
    "    val_df['Lyrics'][index] = text\n",
    "    index+=1\n",
    "del lyrics"
   ]
  },
  {
   "cell_type": "code",
   "execution_count": 12,
   "metadata": {},
   "outputs": [],
   "source": [
    "val_genres = one_hot_genres(val_df['Genre'])"
   ]
  },
  {
   "cell_type": "code",
   "execution_count": 13,
   "metadata": {},
   "outputs": [],
   "source": [
    "val_lyrics = np.zeros(shape=(len(val_df), max_len))\n",
    "\n",
    "row_index = 0\n",
    "for row in val_df['Lyrics']:\n",
    "    single_words = row.split()\n",
    "    col_index = 0\n",
    "    for word in single_words:\n",
    "        if word in word_list and col_index < max_len:\n",
    "            val_lyrics[row_index][col_index] = words.index(word)\n",
    "        col_index+=1\n",
    "    row_index+=1"
   ]
  },
  {
   "cell_type": "code",
   "execution_count": 14,
   "metadata": {},
   "outputs": [],
   "source": [
    "test_df = pd.read_csv(\"test.csv\")\n",
    "lyrics, dummy_len, dummy_list = cnn_clean_text(test_df['Lyrics'], 0)\n",
    "\n",
    "# writing cleaned text back to df\n",
    "index = 0\n",
    "for text in lyrics:\n",
    "    test_df['Lyrics'][index] = text\n",
    "    index+=1\n",
    "del lyrics"
   ]
  },
  {
   "cell_type": "code",
   "execution_count": 15,
   "metadata": {},
   "outputs": [],
   "source": [
    "test_genres = one_hot_genres(test_df['Genre'])"
   ]
  },
  {
   "cell_type": "code",
   "execution_count": 16,
   "metadata": {},
   "outputs": [],
   "source": [
    "test_lyrics = np.zeros(shape=(len(test_df), max_len))\n",
    "\n",
    "row_index = 0\n",
    "for row in test_df['Lyrics']:\n",
    "    single_words = row.split()\n",
    "    col_index = 0\n",
    "    for word in single_words:\n",
    "        if word in word_list and col_index < max_len:\n",
    "            test_lyrics[row_index][col_index] = words.index(word)\n",
    "        col_index+=1\n",
    "    row_index+=1"
   ]
  },
  {
   "cell_type": "code",
   "execution_count": 17,
   "metadata": {},
   "outputs": [
    {
     "name": "stdout",
     "output_type": "stream",
     "text": [
      "(10098, 1525)\n"
     ]
    }
   ],
   "source": [
    "print(train_lyrics.shape)"
   ]
  },
  {
   "cell_type": "code",
   "execution_count": 18,
   "metadata": {},
   "outputs": [],
   "source": [
    "# Source: https://github.com/ibrahimcelenli/cnn-word2vec-tweets-classification/blob/master/cnn_word2vec_tweets_classification.ipynb\n",
    "\n",
    "word2vec = {}\n",
    "with open('w2v_sg_model.word2vec', encoding='UTF-8') as f:\n",
    "    for line in f:\n",
    "        values = line.split()\n",
    "        word = values[0]\n",
    "        vec = np.asarray(values[1:31], dtype='float32')\n",
    "        word2vec[word] = vec"
   ]
  },
  {
   "cell_type": "code",
   "execution_count": 19,
   "metadata": {},
   "outputs": [],
   "source": [
    "# Source: https://github.com/ibrahimcelenli/cnn-word2vec-tweets-classification/blob/master/cnn_word2vec_tweets_classification.ipynb\n",
    "\n",
    "EMBEDDING_DIM = 30\n",
    "embedding_matrix = np.zeros((len(words), EMBEDDING_DIM))\n",
    "index = 0\n",
    "for word in words:\n",
    "    embedding_vector = word2vec.get(word)\n",
    "    if embedding_vector is not None:\n",
    "        # words not found in embedding index will be all-zeros.\n",
    "        embedding_matrix[index] = embedding_vector\n",
    "    index+=1\n"
   ]
  },
  {
   "cell_type": "code",
   "execution_count": 20,
   "metadata": {},
   "outputs": [
    {
     "name": "stdout",
     "output_type": "stream",
     "text": [
      "(34261, 30)\n"
     ]
    }
   ],
   "source": [
    "print(embedding_matrix.shape)"
   ]
  },
  {
   "cell_type": "code",
   "execution_count": null,
   "metadata": {},
   "outputs": [],
   "source": []
  },
  {
   "cell_type": "code",
   "execution_count": 21,
   "metadata": {},
   "outputs": [],
   "source": [
    "# For generating loss curve *Add callback function to model fitting*\n",
    "%load_ext tensorboard"
   ]
  },
  {
   "cell_type": "code",
   "execution_count": 22,
   "metadata": {},
   "outputs": [],
   "source": [
    "import tensorflow as tf\n",
    "import datetime\n",
    "!rm -rf ./logs/ "
   ]
  },
  {
   "cell_type": "code",
   "execution_count": 23,
   "metadata": {},
   "outputs": [],
   "source": [
    "log_dir = \"logs/scalars/\" + datetime.datetime.now().strftime(\"%Y%m%d-%H%M%S\")\n",
    "tensorboard_callback = tf.keras.callbacks.TensorBoard(log_dir=log_dir)\n"
   ]
  },
  {
   "cell_type": "code",
   "execution_count": 24,
   "metadata": {},
   "outputs": [
    {
     "data": {
      "text/plain": [
       "Reusing TensorBoard on port 6006 (pid 11859), started 1 day, 6:38:02 ago. (Use '!kill 11859' to kill it.)"
      ]
     },
     "metadata": {},
     "output_type": "display_data"
    },
    {
     "data": {
      "text/html": [
       "\n",
       "        <iframe\n",
       "            width=\"100%\"\n",
       "            height=\"800\"\n",
       "            src=\"http://localhost:6006\"\n",
       "            frameborder=\"0\"\n",
       "            allowfullscreen\n",
       "        ></iframe>\n",
       "        "
      ],
      "text/plain": [
       "<IPython.lib.display.IFrame at 0x7f933786e890>"
      ]
     },
     "metadata": {},
     "output_type": "display_data"
    }
   ],
   "source": [
    "%tensorboard --logdir logs/scalars"
   ]
  },
  {
   "cell_type": "code",
   "execution_count": 196,
   "metadata": {},
   "outputs": [],
   "source": [
    "from keras.layers import Embedding\n",
    "\n",
    "embedding_layer = Embedding(len(words),\n",
    "                            EMBEDDING_DIM,\n",
    "                            weights=[embedding_matrix],\n",
    "                            input_length=max_len,\n",
    "                            trainable=True)\n",
    "\n",
    "embedding_layer2 = Embedding(len(words),\n",
    "                            EMBEDDING_DIM,\n",
    "                            weights=[embedding_matrix],\n",
    "                            input_length=max_len,\n",
    "                            trainable=True)"
   ]
  },
  {
   "cell_type": "code",
   "execution_count": 197,
   "metadata": {},
   "outputs": [
    {
     "name": "stdout",
     "output_type": "stream",
     "text": [
      "Model: \"model_30\"\n",
      "__________________________________________________________________________________________________\n",
      "Layer (type)                    Output Shape         Param #     Connected to                     \n",
      "==================================================================================================\n",
      "input_59 (InputLayer)           (None, 1525)         0                                            \n",
      "__________________________________________________________________________________________________\n",
      "input_60 (InputLayer)           (None, 1525)         0                                            \n",
      "__________________________________________________________________________________________________\n",
      "embedding_59 (Embedding)        (None, 1525, 30)     1027830     input_59[0][0]                   \n",
      "__________________________________________________________________________________________________\n",
      "embedding_60 (Embedding)        (None, 1525, 30)     1027830     input_60[0][0]                   \n",
      "__________________________________________________________________________________________________\n",
      "conv1d_59 (Conv1D)              (None, 1522, 64)     7744        embedding_59[0][0]               \n",
      "__________________________________________________________________________________________________\n",
      "conv1d_60 (Conv1D)              (None, 1521, 64)     9664        embedding_60[0][0]               \n",
      "__________________________________________________________________________________________________\n",
      "max_pooling1d_59 (MaxPooling1D) (None, 304, 64)      0           conv1d_59[0][0]                  \n",
      "__________________________________________________________________________________________________\n",
      "max_pooling1d_60 (MaxPooling1D) (None, 304, 64)      0           conv1d_60[0][0]                  \n",
      "__________________________________________________________________________________________________\n",
      "dropout_87 (Dropout)            (None, 304, 64)      0           max_pooling1d_59[0][0]           \n",
      "__________________________________________________________________________________________________\n",
      "dropout_88 (Dropout)            (None, 304, 64)      0           max_pooling1d_60[0][0]           \n",
      "__________________________________________________________________________________________________\n",
      "flatten_59 (Flatten)            (None, 19456)        0           dropout_87[0][0]                 \n",
      "__________________________________________________________________________________________________\n",
      "flatten_60 (Flatten)            (None, 19456)        0           dropout_88[0][0]                 \n",
      "__________________________________________________________________________________________________\n",
      "concatenate_30 (Concatenate)    (None, 38912)        0           flatten_59[0][0]                 \n",
      "                                                                 flatten_60[0][0]                 \n",
      "__________________________________________________________________________________________________\n",
      "dropout_89 (Dropout)            (None, 38912)        0           concatenate_30[0][0]             \n",
      "__________________________________________________________________________________________________\n",
      "dense_59 (Dense)                (None, 128)          4980864     dropout_89[0][0]                 \n",
      "__________________________________________________________________________________________________\n",
      "dense_60 (Dense)                (None, 8)            1032        dense_59[0][0]                   \n",
      "==================================================================================================\n",
      "Total params: 7,054,964\n",
      "Trainable params: 7,054,964\n",
      "Non-trainable params: 0\n",
      "__________________________________________________________________________________________________\n"
     ]
    }
   ],
   "source": [
    "from keras.models import Model\n",
    "from keras.layers import Dense, Input, Activation, Conv1D, MaxPooling1D, Dropout, Flatten\n",
    "from keras.layers.merge import concatenate\n",
    "from keras.utils.vis_utils import plot_model\n",
    "\n",
    "sequence_input = Input(shape=(max_len,), dtype='int32')\n",
    "embedding = embedding_layer(sequence_input)\n",
    "\n",
    "# channel 1\n",
    "conv1 = Conv1D(64, 4, activation='relu')(embedding)\n",
    "pool1 = MaxPooling1D(5)(conv1)\n",
    "drop1 = Dropout(0.5)(pool1)\n",
    "flat1 = Flatten()(drop1)\n",
    "\n",
    "# channel 2\n",
    "sequence_input2 = Input(shape=(max_len,), dtype='int32')\n",
    "embedded2 = embedding_layer2(sequence_input2)\n",
    "conv2 = Conv1D(64, 5, activation='relu')(embedded2)\n",
    "pool2 = MaxPooling1D(5)(conv2)\n",
    "drop2 = Dropout(0.5)(pool2)\n",
    "flat2 = Flatten()(drop2)\n",
    "\n",
    "# merge\n",
    "merged = concatenate([flat1, flat2], axis=-1)\n",
    "drop3 = Dropout(0.5)(merged)\n",
    "# interpretation\n",
    "dense = Dense(128, activation='relu')(drop3)\n",
    "outputs = Dense(8, activation='softmax')(dense)\n",
    "\n",
    "\n",
    "model = Model(inputs=[sequence_input, sequence_input2], outputs=outputs)\n",
    "\n",
    "\n",
    "plot_model(model, show_shapes=True, to_file='cnn.png')\n",
    "model.summary()"
   ]
  },
  {
   "cell_type": "code",
   "execution_count": 198,
   "metadata": {},
   "outputs": [
    {
     "name": "stdout",
     "output_type": "stream",
     "text": [
      "Train on 10098 samples, validate on 2142 samples\n",
      "Epoch 1/4\n",
      "10098/10098 [==============================] - 42s 4ms/step - loss: 1.6822 - acc: 0.3576 - val_loss: 1.5545 - val_acc: 0.4174\n",
      "Epoch 2/4\n",
      "10098/10098 [==============================] - 44s 4ms/step - loss: 1.4347 - acc: 0.4568 - val_loss: 1.4727 - val_acc: 0.4500\n",
      "Epoch 3/4\n",
      "10098/10098 [==============================] - 43s 4ms/step - loss: 1.2738 - acc: 0.5249 - val_loss: 1.5405 - val_acc: 0.4290\n",
      "Epoch 4/4\n",
      "10098/10098 [==============================] - 45s 4ms/step - loss: 1.1231 - acc: 0.5839 - val_loss: 1.4666 - val_acc: 0.4837\n"
     ]
    },
    {
     "data": {
      "text/plain": [
       "<keras.callbacks.callbacks.History at 0x7f91ecfb6ed0>"
      ]
     },
     "execution_count": 198,
     "metadata": {},
     "output_type": "execute_result"
    }
   ],
   "source": [
    "from keras.optimizers import Adam\n",
    "\n",
    "optimizer = Adam(learning_rate=0.0001)\n",
    "model.compile(loss='categorical_crossentropy',\n",
    "              optimizer='Adam',\n",
    "              metrics=['acc'])\n",
    "\n",
    "model.fit([train_lyrics,train_lyrics], train_genres, epochs=4, \n",
    "          shuffle=True, batch_size=16, validation_data=([val_lyrics,val_lyrics], val_genres),\n",
    "          callbacks=[tensorboard_callback])"
   ]
  },
  {
   "cell_type": "code",
   "execution_count": 199,
   "metadata": {},
   "outputs": [
    {
     "name": "stdout",
     "output_type": "stream",
     "text": [
      "Epoch 1/4\n",
      "2142/2142 [==============================] - 9s 4ms/step - loss: 1.5632 - acc: 0.4234\n",
      "Epoch 2/4\n",
      "2142/2142 [==============================] - 9s 4ms/step - loss: 1.2829 - acc: 0.5275\n",
      "Epoch 3/4\n",
      "2142/2142 [==============================] - 9s 4ms/step - loss: 1.0925 - acc: 0.5878\n",
      "Epoch 4/4\n",
      "2142/2142 [==============================] - 9s 4ms/step - loss: 0.8614 - acc: 0.6923\n"
     ]
    },
    {
     "data": {
      "text/plain": [
       "<keras.callbacks.callbacks.History at 0x7f91ed27ca50>"
      ]
     },
     "execution_count": 199,
     "metadata": {},
     "output_type": "execute_result"
    }
   ],
   "source": [
    "model.fit([val_lyrics,val_lyrics], val_genres, epochs=4, \n",
    "          shuffle=True, batch_size=16)"
   ]
  },
  {
   "cell_type": "code",
   "execution_count": 200,
   "metadata": {},
   "outputs": [
    {
     "name": "stdout",
     "output_type": "stream",
     "text": [
      "2160/2160 [==============================] - 1s 599us/step\n",
      "Accuracy:  0.4763889014720917\n"
     ]
    }
   ],
   "source": [
    "results = model.evaluate([test_lyrics,test_lyrics], test_genres, batch_size=16)\n",
    "print(\"Accuracy: \", results[1])"
   ]
  },
  {
   "cell_type": "code",
   "execution_count": null,
   "metadata": {},
   "outputs": [],
   "source": []
  },
  {
   "cell_type": "code",
   "execution_count": null,
   "metadata": {},
   "outputs": [],
   "source": []
  }
 ],
 "metadata": {
  "kernelspec": {
   "display_name": "Python 3",
   "language": "python",
   "name": "python3"
  },
  "language_info": {
   "codemirror_mode": {
    "name": "ipython",
    "version": 3
   },
   "file_extension": ".py",
   "mimetype": "text/x-python",
   "name": "python",
   "nbconvert_exporter": "python",
   "pygments_lexer": "ipython3",
   "version": "3.7.5"
  }
 },
 "nbformat": 4,
 "nbformat_minor": 2
}
