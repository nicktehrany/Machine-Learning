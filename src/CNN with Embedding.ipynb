{
 "cells": [
  {
   "cell_type": "code",
   "execution_count": 1,
   "metadata": {},
   "outputs": [],
   "source": [
    "import numpy as np\n",
    "import pandas as pd # for loading data"
   ]
  },
  {
   "cell_type": "code",
   "execution_count": 2,
   "metadata": {},
   "outputs": [
    {
     "name": "stdout",
     "output_type": "stream",
     "text": [
      "/home/nicktehrany/Documents/Uni/3rd Year/P4/Machine Learning/Project\n"
     ]
    }
   ],
   "source": [
    "cd .."
   ]
  },
  {
   "cell_type": "code",
   "execution_count": 3,
   "metadata": {},
   "outputs": [
    {
     "name": "stderr",
     "output_type": "stream",
     "text": [
      "/home/nicktehrany/.local/lib/python3.6/site-packages/tensorflow/python/framework/dtypes.py:516: FutureWarning: Passing (type, 1) or '1type' as a synonym of type is deprecated; in a future version of numpy, it will be understood as (type, (1,)) / '(1,)type'.\n",
      "  _np_qint8 = np.dtype([(\"qint8\", np.int8, 1)])\n",
      "/home/nicktehrany/.local/lib/python3.6/site-packages/tensorflow/python/framework/dtypes.py:517: FutureWarning: Passing (type, 1) or '1type' as a synonym of type is deprecated; in a future version of numpy, it will be understood as (type, (1,)) / '(1,)type'.\n",
      "  _np_quint8 = np.dtype([(\"quint8\", np.uint8, 1)])\n",
      "/home/nicktehrany/.local/lib/python3.6/site-packages/tensorflow/python/framework/dtypes.py:518: FutureWarning: Passing (type, 1) or '1type' as a synonym of type is deprecated; in a future version of numpy, it will be understood as (type, (1,)) / '(1,)type'.\n",
      "  _np_qint16 = np.dtype([(\"qint16\", np.int16, 1)])\n",
      "/home/nicktehrany/.local/lib/python3.6/site-packages/tensorflow/python/framework/dtypes.py:519: FutureWarning: Passing (type, 1) or '1type' as a synonym of type is deprecated; in a future version of numpy, it will be understood as (type, (1,)) / '(1,)type'.\n",
      "  _np_quint16 = np.dtype([(\"quint16\", np.uint16, 1)])\n",
      "/home/nicktehrany/.local/lib/python3.6/site-packages/tensorflow/python/framework/dtypes.py:520: FutureWarning: Passing (type, 1) or '1type' as a synonym of type is deprecated; in a future version of numpy, it will be understood as (type, (1,)) / '(1,)type'.\n",
      "  _np_qint32 = np.dtype([(\"qint32\", np.int32, 1)])\n",
      "/home/nicktehrany/.local/lib/python3.6/site-packages/tensorflow/python/framework/dtypes.py:525: FutureWarning: Passing (type, 1) or '1type' as a synonym of type is deprecated; in a future version of numpy, it will be understood as (type, (1,)) / '(1,)type'.\n",
      "  np_resource = np.dtype([(\"resource\", np.ubyte, 1)])\n",
      "/home/nicktehrany/.local/lib/python3.6/site-packages/tensorboard/compat/tensorflow_stub/dtypes.py:541: FutureWarning: Passing (type, 1) or '1type' as a synonym of type is deprecated; in a future version of numpy, it will be understood as (type, (1,)) / '(1,)type'.\n",
      "  _np_qint8 = np.dtype([(\"qint8\", np.int8, 1)])\n",
      "/home/nicktehrany/.local/lib/python3.6/site-packages/tensorboard/compat/tensorflow_stub/dtypes.py:542: FutureWarning: Passing (type, 1) or '1type' as a synonym of type is deprecated; in a future version of numpy, it will be understood as (type, (1,)) / '(1,)type'.\n",
      "  _np_quint8 = np.dtype([(\"quint8\", np.uint8, 1)])\n",
      "/home/nicktehrany/.local/lib/python3.6/site-packages/tensorboard/compat/tensorflow_stub/dtypes.py:543: FutureWarning: Passing (type, 1) or '1type' as a synonym of type is deprecated; in a future version of numpy, it will be understood as (type, (1,)) / '(1,)type'.\n",
      "  _np_qint16 = np.dtype([(\"qint16\", np.int16, 1)])\n",
      "/home/nicktehrany/.local/lib/python3.6/site-packages/tensorboard/compat/tensorflow_stub/dtypes.py:544: FutureWarning: Passing (type, 1) or '1type' as a synonym of type is deprecated; in a future version of numpy, it will be understood as (type, (1,)) / '(1,)type'.\n",
      "  _np_quint16 = np.dtype([(\"quint16\", np.uint16, 1)])\n",
      "/home/nicktehrany/.local/lib/python3.6/site-packages/tensorboard/compat/tensorflow_stub/dtypes.py:545: FutureWarning: Passing (type, 1) or '1type' as a synonym of type is deprecated; in a future version of numpy, it will be understood as (type, (1,)) / '(1,)type'.\n",
      "  _np_qint32 = np.dtype([(\"qint32\", np.int32, 1)])\n",
      "/home/nicktehrany/.local/lib/python3.6/site-packages/tensorboard/compat/tensorflow_stub/dtypes.py:550: FutureWarning: Passing (type, 1) or '1type' as a synonym of type is deprecated; in a future version of numpy, it will be understood as (type, (1,)) / '(1,)type'.\n",
      "  np_resource = np.dtype([(\"resource\", np.ubyte, 1)])\n",
      "[nltk_data] Downloading package wordnet to\n",
      "[nltk_data]     /home/nicktehrany/nltk_data...\n",
      "[nltk_data]   Package wordnet is already up-to-date!\n",
      "[nltk_data] Downloading package stopwords to\n",
      "[nltk_data]     /home/nicktehrany/nltk_data...\n",
      "[nltk_data]   Package stopwords is already up-to-date!\n"
     ]
    }
   ],
   "source": [
    "# Importing our own Functions\n",
    "from util.helperfunctions import one_hot, one_hot_genres, cnn_clean_text, one_hot_reverse"
   ]
  },
  {
   "cell_type": "code",
   "execution_count": 4,
   "metadata": {},
   "outputs": [
    {
     "name": "stdout",
     "output_type": "stream",
     "text": [
      "/home/nicktehrany/Documents/Uni/3rd Year/P4/Machine Learning/Project/src\n"
     ]
    }
   ],
   "source": [
    "cd src"
   ]
  },
  {
   "cell_type": "code",
   "execution_count": 5,
   "metadata": {},
   "outputs": [],
   "source": [
    "train_df = pd.read_csv(\"train.csv\")"
   ]
  },
  {
   "cell_type": "code",
   "execution_count": 6,
   "metadata": {},
   "outputs": [],
   "source": [
    "lyrics, max_len, word_list = cnn_clean_text(train_df['Lyrics'], 1)\n",
    "\n",
    "# writing cleaned text back to df\n",
    "index = 0\n",
    "for text in lyrics:\n",
    "    train_df['Lyrics'][index] = text\n",
    "    index+=1\n",
    "del lyrics"
   ]
  },
  {
   "cell_type": "code",
   "execution_count": 7,
   "metadata": {},
   "outputs": [],
   "source": [
    "words = []\n",
    "words.append('<PAD>')\n",
    "for word in word_list:\n",
    "    words.append(word)"
   ]
  },
  {
   "cell_type": "code",
   "execution_count": 8,
   "metadata": {},
   "outputs": [],
   "source": [
    "train_lyrics = np.zeros(shape=(len(train_df), max_len))\n",
    "\n",
    "row_index = 0\n",
    "for row in train_df['Lyrics']:\n",
    "    single_words = row.split()\n",
    "    col_index = 0\n",
    "    for word in single_words:\n",
    "        train_lyrics[row_index][col_index] = words.index(word)\n",
    "        col_index+=1\n",
    "    row_index+=1"
   ]
  },
  {
   "cell_type": "code",
   "execution_count": 9,
   "metadata": {},
   "outputs": [
    {
     "name": "stdout",
     "output_type": "stream",
     "text": [
      "(10098, 1525)\n"
     ]
    }
   ],
   "source": [
    "print(train_lyrics.shape)"
   ]
  },
  {
   "cell_type": "code",
   "execution_count": 10,
   "metadata": {},
   "outputs": [],
   "source": [
    "train_genres = one_hot_genres(train_df['Genre'])"
   ]
  },
  {
   "cell_type": "code",
   "execution_count": 11,
   "metadata": {},
   "outputs": [],
   "source": [
    "val_df = pd.read_csv(\"validation.csv\")\n",
    "lyrics, dummy_len, dummy_list = cnn_clean_text(val_df['Lyrics'], 0)\n",
    "\n",
    "# writing cleaned text back to df\n",
    "index = 0\n",
    "for text in lyrics:\n",
    "    val_df['Lyrics'][index] = text\n",
    "    index+=1\n",
    "del lyrics"
   ]
  },
  {
   "cell_type": "code",
   "execution_count": 12,
   "metadata": {},
   "outputs": [],
   "source": [
    "val_genres = one_hot_genres(val_df['Genre'])"
   ]
  },
  {
   "cell_type": "code",
   "execution_count": 13,
   "metadata": {},
   "outputs": [],
   "source": [
    "val_lyrics = np.zeros(shape=(len(val_df), max_len))\n",
    "\n",
    "row_index = 0\n",
    "for row in val_df['Lyrics']:\n",
    "    single_words = row.split()\n",
    "    col_index = 0\n",
    "    for word in single_words:\n",
    "        if word in word_list and col_index < max_len:\n",
    "            val_lyrics[row_index][col_index] = words.index(word)\n",
    "        col_index+=1\n",
    "    row_index+=1"
   ]
  },
  {
   "cell_type": "code",
   "execution_count": 14,
   "metadata": {},
   "outputs": [],
   "source": [
    "test_df = pd.read_csv(\"test.csv\")\n",
    "lyrics, dummy_len, dummy_list = cnn_clean_text(test_df['Lyrics'], 0)\n",
    "\n",
    "# writing cleaned text back to df\n",
    "index = 0\n",
    "for text in lyrics:\n",
    "    test_df['Lyrics'][index] = text\n",
    "    index+=1\n",
    "del lyrics"
   ]
  },
  {
   "cell_type": "code",
   "execution_count": 15,
   "metadata": {},
   "outputs": [],
   "source": [
    "test_genres = one_hot_genres(test_df['Genre'])"
   ]
  },
  {
   "cell_type": "code",
   "execution_count": 16,
   "metadata": {},
   "outputs": [],
   "source": [
    "test_lyrics = np.zeros(shape=(len(test_df), max_len))\n",
    "\n",
    "row_index = 0\n",
    "for row in test_df['Lyrics']:\n",
    "    single_words = row.split()\n",
    "    col_index = 0\n",
    "    for word in single_words:\n",
    "        if word in word_list and col_index < max_len:\n",
    "            test_lyrics[row_index][col_index] = words.index(word)\n",
    "        col_index+=1\n",
    "    row_index+=1"
   ]
  },
  {
   "cell_type": "code",
   "execution_count": 17,
   "metadata": {},
   "outputs": [
    {
     "name": "stdout",
     "output_type": "stream",
     "text": [
      "(10098, 1525)\n"
     ]
    }
   ],
   "source": [
    "print(train_lyrics.shape)"
   ]
  },
  {
   "cell_type": "code",
   "execution_count": 18,
   "metadata": {},
   "outputs": [],
   "source": [
    "# Source: https://github.com/ibrahimcelenli/cnn-word2vec-tweets-classification/blob/master/cnn_word2vec_tweets_classification.ipynb\n",
    "\n",
    "word2vec = {}\n",
    "with open('w2v_sg_model.word2vec', encoding='UTF-8') as f:\n",
    "    for line in f:\n",
    "        values = line.split()\n",
    "        word = values[0]\n",
    "        vec = np.asarray(values[1:], dtype='float32')\n",
    "        word2vec[word] = vec"
   ]
  },
  {
   "cell_type": "code",
   "execution_count": 19,
   "metadata": {},
   "outputs": [],
   "source": [
    "# Source: https://github.com/ibrahimcelenli/cnn-word2vec-tweets-classification/blob/master/cnn_word2vec_tweets_classification.ipynb\n",
    "\n",
    "EMBEDDING_DIM = 100\n",
    "embedding_matrix = np.zeros((len(words), EMBEDDING_DIM))\n",
    "index = 0\n",
    "for word in words:\n",
    "    embedding_vector = word2vec.get(word)\n",
    "    if embedding_vector is not None:\n",
    "        # words not found in embedding index will be all-zeros.\n",
    "        embedding_matrix[index] = embedding_vector\n",
    "    index+=1\n"
   ]
  },
  {
   "cell_type": "code",
   "execution_count": 20,
   "metadata": {},
   "outputs": [
    {
     "name": "stdout",
     "output_type": "stream",
     "text": [
      "(34261, 100)\n"
     ]
    }
   ],
   "source": [
    "print(embedding_matrix.shape)"
   ]
  },
  {
   "cell_type": "code",
   "execution_count": 21,
   "metadata": {},
   "outputs": [
    {
     "name": "stderr",
     "output_type": "stream",
     "text": [
      "Using TensorFlow backend.\n"
     ]
    }
   ],
   "source": [
    "from keras.layers import Embedding\n",
    "\n",
    "embedding_layer = Embedding(len(words),\n",
    "                            EMBEDDING_DIM,\n",
    "                            weights=[embedding_matrix],\n",
    "                            input_length=max_len,\n",
    "                            trainable=True)"
   ]
  },
  {
   "cell_type": "code",
   "execution_count": 22,
   "metadata": {},
   "outputs": [],
   "source": [
    "# For generating loss curve *Add callback function to model fitting*\n",
    "%load_ext tensorboard"
   ]
  },
  {
   "cell_type": "code",
   "execution_count": 78,
   "metadata": {},
   "outputs": [],
   "source": [
    "import tensorflow as tf\n",
    "import datetime\n",
    "!rm -rf ./logs/ "
   ]
  },
  {
   "cell_type": "code",
   "execution_count": 79,
   "metadata": {},
   "outputs": [],
   "source": [
    "log_dir = \"logs/scalars/\" + datetime.datetime.now().strftime(\"%Y%m%d-%H%M%S\")\n",
    "tensorboard_callback = tf.keras.callbacks.TensorBoard(log_dir=log_dir)\n"
   ]
  },
  {
   "cell_type": "code",
   "execution_count": 80,
   "metadata": {},
   "outputs": [
    {
     "data": {
      "text/plain": [
       "Reusing TensorBoard on port 6008 (pid 21677), started 4 days, 14:34:39 ago. (Use '!kill 21677' to kill it.)"
      ]
     },
     "metadata": {},
     "output_type": "display_data"
    },
    {
     "data": {
      "text/html": [
       "\n",
       "        <iframe\n",
       "            width=\"100%\"\n",
       "            height=\"800\"\n",
       "            src=\"http://localhost:6008\"\n",
       "            frameborder=\"0\"\n",
       "            allowfullscreen\n",
       "        ></iframe>\n",
       "        "
      ],
      "text/plain": [
       "<IPython.lib.display.IFrame at 0x7f3da4203748>"
      ]
     },
     "metadata": {},
     "output_type": "display_data"
    }
   ],
   "source": [
    "%tensorboard --logdir logs/scalars"
   ]
  },
  {
   "cell_type": "code",
   "execution_count": 85,
   "metadata": {},
   "outputs": [
    {
     "name": "stdout",
     "output_type": "stream",
     "text": [
      "WARNING:tensorflow:Large dropout rate: 0.9 (>0.5). In TensorFlow 2.x, dropout() uses dropout rate instead of keep_prob. Please ensure that this is intended.\n",
      "Model: \"model_12\"\n",
      "_________________________________________________________________\n",
      "Layer (type)                 Output Shape              Param #   \n",
      "=================================================================\n",
      "input_12 (InputLayer)        (None, 1525)              0         \n",
      "_________________________________________________________________\n",
      "embedding_1 (Embedding)      (None, 1525, 100)         3426100   \n",
      "_________________________________________________________________\n",
      "conv1d_15 (Conv1D)           (None, 1524, 32)          6432      \n",
      "_________________________________________________________________\n",
      "dropout_13 (Dropout)         (None, 1524, 32)          0         \n",
      "_________________________________________________________________\n",
      "max_pooling1d_15 (MaxPooling (None, 762, 32)           0         \n",
      "_________________________________________________________________\n",
      "flatten_12 (Flatten)         (None, 24384)             0         \n",
      "_________________________________________________________________\n",
      "dense_12 (Dense)             (None, 8)                 195080    \n",
      "=================================================================\n",
      "Total params: 3,627,612\n",
      "Trainable params: 3,627,612\n",
      "Non-trainable params: 0\n",
      "_________________________________________________________________\n"
     ]
    }
   ],
   "source": [
    "from keras.models import Model\n",
    "from keras.layers import Dense, Input, Activation, Conv1D, MaxPooling1D, Dropout, Flatten\n",
    "from keras.layers.merge import concatenate\n",
    "from keras.utils.vis_utils import plot_model\n",
    "\n",
    "sequence_input = Input(shape=(max_len,), dtype='int32')\n",
    "embedding = embedding_layer(sequence_input)\n",
    "\n",
    "# # channel 1\n",
    "# conv1 = Conv1D(128, 2, activation='relu')(embedding)\n",
    "# drop1 = Dropout(0.2)(conv1)\n",
    "# pool1 = MaxPooling1D(2)(drop1)\n",
    "# dense1 = Dense(32, activation='relu')(pool1)\n",
    "# flat1 = Flatten()(dense1)\n",
    "\n",
    "# # channel 2\n",
    "# sequence_input2 = Input(shape=(max_len,), dtype='int32')\n",
    "# embedded2 = embedding_layer(sequence_input2)\n",
    "# conv2 = Conv1D(128, 3, activation='relu')(embedded2)\n",
    "# drop2 = Dropout(0.4)(conv2)\n",
    "# pool2 = MaxPooling1D(3)(drop2)\n",
    "# dense2 = Dense(32, activation='relu')(pool2)\n",
    "# flat2 = Flatten()(dense2)\n",
    "\n",
    "# # channel 3\n",
    "# sequence_input3 = Input(shape=(max_len,), dtype='int32')\n",
    "# embedded3 = embedding_layer(sequence_input3)\n",
    "# conv3 = Conv1D(128, 4, activation='relu')(embedded3)\n",
    "# drop3 = Dropout(0.4)(conv3)\n",
    "# pool3 = MaxPooling1D(4)(drop3)\n",
    "# dense3 = Dense(32, activation='relu')(pool3)\n",
    "# flat3 = Flatten()(dense3)\n",
    "\n",
    "# # channel 4\n",
    "# sequence_input4 = Input(shape=(max_len,), dtype='int32')\n",
    "# embedded4 = embedding_layer(sequence_input4)\n",
    "# conv4 = Conv1D(128, 5, activation='relu')(embedded4)\n",
    "# drop4 = Dropout(0.4)(conv4)\n",
    "# pool4 = MaxPooling1D(5)(drop4)\n",
    "# dense4 = Dense(32, activation='relu')(pool4)\n",
    "# flat4 = Flatten()(dense4)\n",
    "\n",
    "# # merge\n",
    "# merged = concatenate([flat1, flat2, flat3, flat4], axis=-1)\n",
    "# # interpretation\n",
    "# dense5 = Dense(32, activation='relu')(merged)\n",
    "# drop5 = Dropout(0.3)(dense5)\n",
    "# outputs = Dense(8, activation='softmax')(drop5)\n",
    "\n",
    "\n",
    "# model = Model(inputs=[sequence_input, sequence_input2, sequence_input3, sequence_input4], outputs=outputs)\n",
    "\n",
    "conv1 = Conv1D(32, 2, activation='relu')(embedding)\n",
    "drop1 = Dropout(0.9)(conv1)\n",
    "pool1 = MaxPooling1D(2)(drop1)\n",
    "flatten = Flatten()(pool1)\n",
    "final = Dense(8, activation='softmax')(flatten)\n",
    "model = Model(sequence_input, final)\n",
    "\n",
    "plot_model(model, show_shapes=True, to_file='cnn.png')\n",
    "model.summary()"
   ]
  },
  {
   "cell_type": "code",
   "execution_count": 86,
   "metadata": {},
   "outputs": [
    {
     "name": "stdout",
     "output_type": "stream",
     "text": [
      "Train on 10098 samples, validate on 2142 samples\n",
      "Epoch 1/5\n",
      "10098/10098 [==============================] - 27s 3ms/step - loss: 1.3441 - acc: 0.4990 - val_loss: 1.2565 - val_acc: 0.5518\n",
      "Epoch 2/5\n",
      "10098/10098 [==============================] - 27s 3ms/step - loss: 0.8712 - acc: 0.6878 - val_loss: 1.2417 - val_acc: 0.5696\n",
      "Epoch 3/5\n",
      "10098/10098 [==============================] - 27s 3ms/step - loss: 0.7473 - acc: 0.7365 - val_loss: 1.2425 - val_acc: 0.5728\n",
      "Epoch 4/5\n",
      "10098/10098 [==============================] - 27s 3ms/step - loss: 0.6936 - acc: 0.7655 - val_loss: 1.2958 - val_acc: 0.5770\n",
      "Epoch 5/5\n",
      "10098/10098 [==============================] - 26s 3ms/step - loss: 0.6542 - acc: 0.7757 - val_loss: 1.3414 - val_acc: 0.5658\n"
     ]
    },
    {
     "data": {
      "text/plain": [
       "<keras.callbacks.callbacks.History at 0x7f3d86b210b8>"
      ]
     },
     "execution_count": 86,
     "metadata": {},
     "output_type": "execute_result"
    }
   ],
   "source": [
    "from keras.optimizers import Adam\n",
    "\n",
    "optimizer = Adam(learning_rate=0.0001)\n",
    "model.compile(loss='categorical_crossentropy',\n",
    "              optimizer='Adam',\n",
    "              metrics=['acc'])\n",
    "\n",
    "model.fit(train_lyrics, train_genres, epochs=5, \n",
    "          shuffle=True, batch_size=16, validation_data=(val_lyrics, val_genres),\n",
    "          callbacks=[tensorboard_callback])"
   ]
  },
  {
   "cell_type": "code",
   "execution_count": 87,
   "metadata": {},
   "outputs": [],
   "source": [
    "# model.fit(val_lyrics, val_genres, epochs=1, \n",
    "#           shuffle=True, batch_size=16)"
   ]
  },
  {
   "cell_type": "code",
   "execution_count": 84,
   "metadata": {},
   "outputs": [
    {
     "name": "stdout",
     "output_type": "stream",
     "text": [
      "2160/2160 [==============================] - 1s 349us/step\n",
      "Accuracy:  0.43287035822868347\n"
     ]
    }
   ],
   "source": [
    "results = model.evaluate(test_lyrics, test_genres, batch_size=16)\n",
    "print(\"Accuracy: \", results[1])"
   ]
  },
  {
   "cell_type": "code",
   "execution_count": 56,
   "metadata": {},
   "outputs": [
    {
     "ename": "ValueError",
     "evalue": "Classification metrics can't handle a mix of multiclass and continuous-multioutput targets",
     "output_type": "error",
     "traceback": [
      "\u001b[0;31m---------------------------------------------------------------------------\u001b[0m",
      "\u001b[0;31mValueError\u001b[0m                                Traceback (most recent call last)",
      "\u001b[0;32m<ipython-input-56-40cf30d62cf1>\u001b[0m in \u001b[0;36m<module>\u001b[0;34m\u001b[0m\n\u001b[1;32m      2\u001b[0m \u001b[0;34m\u001b[0m\u001b[0m\n\u001b[1;32m      3\u001b[0m \u001b[0my_pred\u001b[0m\u001b[0;34m=\u001b[0m\u001b[0mmodel\u001b[0m\u001b[0;34m.\u001b[0m\u001b[0mpredict\u001b[0m\u001b[0;34m(\u001b[0m\u001b[0mtest_lyrics\u001b[0m\u001b[0;34m)\u001b[0m\u001b[0;34m\u001b[0m\u001b[0;34m\u001b[0m\u001b[0m\n\u001b[0;32m----> 4\u001b[0;31m \u001b[0mcm\u001b[0m\u001b[0;34m=\u001b[0m\u001b[0mconfusion_matrix\u001b[0m\u001b[0;34m(\u001b[0m\u001b[0mone_hot_reverse\u001b[0m\u001b[0;34m(\u001b[0m\u001b[0mtest_genres\u001b[0m\u001b[0;34m)\u001b[0m\u001b[0;34m,\u001b[0m\u001b[0my_pred\u001b[0m\u001b[0;34m)\u001b[0m\u001b[0;34m\u001b[0m\u001b[0;34m\u001b[0m\u001b[0m\n\u001b[0m\u001b[1;32m      5\u001b[0m \u001b[0mprint\u001b[0m\u001b[0;34m(\u001b[0m\u001b[0mcm\u001b[0m\u001b[0;34m)\u001b[0m\u001b[0;34m\u001b[0m\u001b[0;34m\u001b[0m\u001b[0m\n",
      "\u001b[0;32m~/.local/lib/python3.6/site-packages/sklearn/metrics/classification.py\u001b[0m in \u001b[0;36mconfusion_matrix\u001b[0;34m(y_true, y_pred, labels, sample_weight)\u001b[0m\n\u001b[1;32m    251\u001b[0m \u001b[0;34m\u001b[0m\u001b[0m\n\u001b[1;32m    252\u001b[0m     \"\"\"\n\u001b[0;32m--> 253\u001b[0;31m     \u001b[0my_type\u001b[0m\u001b[0;34m,\u001b[0m \u001b[0my_true\u001b[0m\u001b[0;34m,\u001b[0m \u001b[0my_pred\u001b[0m \u001b[0;34m=\u001b[0m \u001b[0m_check_targets\u001b[0m\u001b[0;34m(\u001b[0m\u001b[0my_true\u001b[0m\u001b[0;34m,\u001b[0m \u001b[0my_pred\u001b[0m\u001b[0;34m)\u001b[0m\u001b[0;34m\u001b[0m\u001b[0;34m\u001b[0m\u001b[0m\n\u001b[0m\u001b[1;32m    254\u001b[0m     \u001b[0;32mif\u001b[0m \u001b[0my_type\u001b[0m \u001b[0;32mnot\u001b[0m \u001b[0;32min\u001b[0m \u001b[0;34m(\u001b[0m\u001b[0;34m\"binary\"\u001b[0m\u001b[0;34m,\u001b[0m \u001b[0;34m\"multiclass\"\u001b[0m\u001b[0;34m)\u001b[0m\u001b[0;34m:\u001b[0m\u001b[0;34m\u001b[0m\u001b[0;34m\u001b[0m\u001b[0m\n\u001b[1;32m    255\u001b[0m         \u001b[0;32mraise\u001b[0m \u001b[0mValueError\u001b[0m\u001b[0;34m(\u001b[0m\u001b[0;34m\"%s is not supported\"\u001b[0m \u001b[0;34m%\u001b[0m \u001b[0my_type\u001b[0m\u001b[0;34m)\u001b[0m\u001b[0;34m\u001b[0m\u001b[0;34m\u001b[0m\u001b[0m\n",
      "\u001b[0;32m~/.local/lib/python3.6/site-packages/sklearn/metrics/classification.py\u001b[0m in \u001b[0;36m_check_targets\u001b[0;34m(y_true, y_pred)\u001b[0m\n\u001b[1;32m     79\u001b[0m     \u001b[0;32mif\u001b[0m \u001b[0mlen\u001b[0m\u001b[0;34m(\u001b[0m\u001b[0my_type\u001b[0m\u001b[0;34m)\u001b[0m \u001b[0;34m>\u001b[0m \u001b[0;36m1\u001b[0m\u001b[0;34m:\u001b[0m\u001b[0;34m\u001b[0m\u001b[0;34m\u001b[0m\u001b[0m\n\u001b[1;32m     80\u001b[0m         raise ValueError(\"Classification metrics can't handle a mix of {0} \"\n\u001b[0;32m---> 81\u001b[0;31m                          \"and {1} targets\".format(type_true, type_pred))\n\u001b[0m\u001b[1;32m     82\u001b[0m \u001b[0;34m\u001b[0m\u001b[0m\n\u001b[1;32m     83\u001b[0m     \u001b[0;31m# We can't have more than one value on y_type => The set is no more needed\u001b[0m\u001b[0;34m\u001b[0m\u001b[0;34m\u001b[0m\u001b[0;34m\u001b[0m\u001b[0m\n",
      "\u001b[0;31mValueError\u001b[0m: Classification metrics can't handle a mix of multiclass and continuous-multioutput targets"
     ]
    }
   ],
   "source": [
    "from sklearn.metrics import confusion_matrix\n",
    "\n",
    "y_pred=model.predict(test_lyrics)\n",
    "cm=confusion_matrix(one_hot_reverse(test_genres),y_pred)\n",
    "print(cm)"
   ]
  },
  {
   "cell_type": "code",
   "execution_count": null,
   "metadata": {},
   "outputs": [],
   "source": []
  },
  {
   "cell_type": "code",
   "execution_count": null,
   "metadata": {},
   "outputs": [],
   "source": [
    "import seaborn as sn\n",
    "import pandas as pd\n",
    "import matplotlib.pyplot as plt\n",
    "\n",
    "genre_list = ['Pop','Rock', 'Hip-Hop/Rap', 'Country', 'R&B/Soul', 'Metal', 'Alternative/Indie', 'Folk']\n",
    "\n",
    "df_cm = pd.DataFrame(cm, index = genre_list, columns = genre_list)\n",
    "print(df_cm)\n",
    "plt.figure(figsize = (10,7))\n",
    "sn.heatmap(df_cm, annot=True, linewidth=0.5, fmt='g', cmap=\"BuPu\")\n",
    "b, t = plt.ylim() # discover the values for bottom and top\n",
    "b += 0.5 # Add 0.5 to the bottom\n",
    "t -= 0.5 # Subtract 0.5 from the top\n",
    "plt.ylim(b, t) # update the ylim(bottom, top) values"
   ]
  },
  {
   "cell_type": "code",
   "execution_count": null,
   "metadata": {},
   "outputs": [],
   "source": []
  },
  {
   "cell_type": "code",
   "execution_count": null,
   "metadata": {},
   "outputs": [],
   "source": []
  }
 ],
 "metadata": {
  "kernelspec": {
   "display_name": "Python 3",
   "language": "python",
   "name": "python3"
  },
  "language_info": {
   "codemirror_mode": {
    "name": "ipython",
    "version": 3
   },
   "file_extension": ".py",
   "mimetype": "text/x-python",
   "name": "python",
   "nbconvert_exporter": "python",
   "pygments_lexer": "ipython3",
   "version": "3.6.8"
  }
 },
 "nbformat": 4,
 "nbformat_minor": 2
}
