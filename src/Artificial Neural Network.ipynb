{
 "cells": [
  {
   "cell_type": "code",
   "execution_count": 1,
   "metadata": {},
   "outputs": [],
   "source": [
    "import numpy as np\n",
    "import pandas as pd # for loading data"
   ]
  },
  {
   "cell_type": "code",
   "execution_count": 2,
   "metadata": {},
   "outputs": [
    {
     "name": "stdout",
     "output_type": "stream",
     "text": [
      "/Users/Robin/Documents/Studium/Computer Science (Bachelor)/Year 3/Period 4/Machine Learning/Project/Machine-Learning\n"
     ]
    }
   ],
   "source": [
    "cd .."
   ]
  },
  {
   "cell_type": "code",
   "execution_count": 3,
   "metadata": {},
   "outputs": [
    {
     "name": "stderr",
     "output_type": "stream",
     "text": [
      "[nltk_data] Downloading package wordnet to /Users/Robin/nltk_data...\n",
      "[nltk_data]   Package wordnet is already up-to-date!\n",
      "[nltk_data] Downloading package stopwords to /Users/Robin/nltk_data...\n",
      "[nltk_data]   Package stopwords is already up-to-date!\n"
     ]
    }
   ],
   "source": [
    "# Importing our own Functions\n",
    "from util.helperfunctions import one_hot, one_hot_genres, clean_text, one_hot_reverse"
   ]
  },
  {
   "cell_type": "code",
   "execution_count": 4,
   "metadata": {},
   "outputs": [
    {
     "name": "stdout",
     "output_type": "stream",
     "text": [
      "/Users/Robin/Documents/Studium/Computer Science (Bachelor)/Year 3/Period 4/Machine Learning/Project/Machine-Learning/src\n"
     ]
    }
   ],
   "source": [
    "cd src"
   ]
  },
  {
   "cell_type": "code",
   "execution_count": 5,
   "metadata": {},
   "outputs": [],
   "source": [
    "train_df = pd.read_csv(\"train.csv\")"
   ]
  },
  {
   "cell_type": "markdown",
   "metadata": {},
   "source": [
    "## Cleaning the test set lyrics and creating One-Hots for train data's genres and just cleaned lyrics"
   ]
  },
  {
   "cell_type": "code",
   "execution_count": 6,
   "metadata": {},
   "outputs": [],
   "source": [
    "lyrics, word_list = clean_text(train_df['Lyrics'], 1)\n",
    "\n",
    "# writing cleaned text back to df\n",
    "index = 0\n",
    "for text in lyrics:\n",
    "    train_df['Lyrics'][index] = text\n",
    "    index+=1\n",
    "del lyrics"
   ]
  },
  {
   "cell_type": "code",
   "execution_count": 7,
   "metadata": {},
   "outputs": [],
   "source": [
    "train_genres = one_hot_genres(train_df['Genre'])"
   ]
  },
  {
   "cell_type": "markdown",
   "metadata": {},
   "source": [
    "## Replace all the lyrics with their respctive vector of word occurrences to be used as the input layer for the neural network"
   ]
  },
  {
   "cell_type": "code",
   "execution_count": 8,
   "metadata": {},
   "outputs": [
    {
     "name": "stdout",
     "output_type": "stream",
     "text": [
      "(10098, 34260)\n"
     ]
    }
   ],
   "source": [
    "train_lyrics = np.zeros(shape=(len(train_df),len(word_list)))\n",
    "for index, value in train_df.iterrows():\n",
    "    train_lyrics[index] = one_hot(str(train_df['Lyrics'][index]), word_list, len(word_list), 0)\n",
    "print(train_lyrics.shape)\n",
    "lyrics_size = len(word_list)\n",
    "\n",
    "# Cleaning no more used variables\n",
    "del train_df"
   ]
  },
  {
   "cell_type": "markdown",
   "metadata": {},
   "source": [
    "## Preparing Validation Set"
   ]
  },
  {
   "cell_type": "code",
   "execution_count": 9,
   "metadata": {},
   "outputs": [],
   "source": [
    "val_df = pd.read_csv(\"validation.csv\")\n",
    "lyrics, dummy_list = clean_text(val_df['Lyrics'], 0)\n",
    "\n",
    "# writing cleaned text back to df\n",
    "index = 0\n",
    "for text in lyrics:\n",
    "    val_df['Lyrics'][index] = text\n",
    "    index+=1\n",
    "del lyrics"
   ]
  },
  {
   "cell_type": "code",
   "execution_count": 10,
   "metadata": {},
   "outputs": [],
   "source": [
    "val_genres = one_hot_genres(val_df['Genre'])"
   ]
  },
  {
   "cell_type": "code",
   "execution_count": 11,
   "metadata": {},
   "outputs": [
    {
     "name": "stdout",
     "output_type": "stream",
     "text": [
      "(2142, 34260)\n"
     ]
    }
   ],
   "source": [
    "val_lyrics = np.zeros(shape=(len(val_df), lyrics_size))\n",
    "for index, value in val_df.iterrows():\n",
    "    val_lyrics[index] = one_hot(str(val_df['Lyrics'][index]), word_list, lyrics_size, 0)\n",
    "print(val_lyrics.shape)\n",
    "\n",
    "# Cleaning no more used variables\n",
    "del val_df"
   ]
  },
  {
   "cell_type": "markdown",
   "metadata": {},
   "source": [
    "## Cleaning the test set lyrics and creating One-Hots for test data's genres and just cleaned lyrics"
   ]
  },
  {
   "cell_type": "code",
   "execution_count": 12,
   "metadata": {},
   "outputs": [],
   "source": [
    "test_df = pd.read_csv(\"test.csv\")\n",
    "lyrics, dummy_list = clean_text(test_df['Lyrics'], 0)\n",
    "\n",
    "# writing cleaned text back to df\n",
    "index = 0\n",
    "for text in lyrics:\n",
    "    test_df['Lyrics'][index] = text\n",
    "    index+=1\n",
    "del lyrics"
   ]
  },
  {
   "cell_type": "code",
   "execution_count": 13,
   "metadata": {},
   "outputs": [],
   "source": [
    "test_genres = one_hot_genres(test_df['Genre'])"
   ]
  },
  {
   "cell_type": "code",
   "execution_count": 14,
   "metadata": {},
   "outputs": [
    {
     "name": "stdout",
     "output_type": "stream",
     "text": [
      "(2160, 34260)\n"
     ]
    }
   ],
   "source": [
    "test_lyrics = np.zeros(shape=(len(test_df), lyrics_size))\n",
    "for index, value in test_df.iterrows():\n",
    "    test_lyrics[index] = one_hot(str(test_df['Lyrics'][index]), word_list, lyrics_size, 0)\n",
    "print(test_lyrics.shape)\n",
    "\n",
    "# Cleaning no more used variables\n",
    "del test_df"
   ]
  },
  {
   "cell_type": "markdown",
   "metadata": {},
   "source": [
    "# Neural Network stuff \n",
    "## **Modify and run only the cells below to change the neural network**"
   ]
  },
  {
   "cell_type": "code",
   "execution_count": 84,
   "metadata": {},
   "outputs": [
    {
     "name": "stdout",
     "output_type": "stream",
     "text": [
      "Model: \"sequential_17\"\n",
      "_________________________________________________________________\n",
      "Layer (type)                 Output Shape              Param #   \n",
      "=================================================================\n",
      "dense_34 (Dense)             (None, 32)                1096352   \n",
      "_________________________________________________________________\n",
      "activation_34 (Activation)   (None, 32)                0         \n",
      "_________________________________________________________________\n",
      "dropout_17 (Dropout)         (None, 32)                0         \n",
      "_________________________________________________________________\n",
      "dense_35 (Dense)             (None, 8)                 264       \n",
      "_________________________________________________________________\n",
      "activation_35 (Activation)   (None, 8)                 0         \n",
      "=================================================================\n",
      "Total params: 1,096,616\n",
      "Trainable params: 1,096,616\n",
      "Non-trainable params: 0\n",
      "_________________________________________________________________\n"
     ]
    }
   ],
   "source": [
    "from tensorflow.keras.models import Sequential\n",
    "from tensorflow.keras.layers import Dense, Activation, Dropout\n",
    "\n",
    "model = Sequential()\n",
    "model.add(Dense(units=32, input_shape=(lyrics_size,)))\n",
    "model.add(Activation('relu'))            # activation layer\n",
    "model.add(Dropout(0.8))\n",
    "#model.add(Dense(256))\n",
    "model.add(Dense(8))\n",
    "model.add(Activation('softmax'))         # output class probabilities\n",
    "\n",
    "model.summary()"
   ]
  },
  {
   "cell_type": "code",
   "execution_count": 85,
   "metadata": {},
   "outputs": [],
   "source": [
    "from tensorflow.keras.optimizers import SGD, Adam\n",
    "\n",
    "optimizer = Adam(lr=0.0001) # lr is the learning rate\n",
    "model.compile(optimizer=optimizer, loss='categorical_crossentropy', metrics=['accuracy'])"
   ]
  },
  {
   "cell_type": "code",
   "execution_count": 86,
   "metadata": {},
   "outputs": [
    {
     "name": "stdout",
     "output_type": "stream",
     "text": [
      "Train on 10098 samples, validate on 2142 samples\n",
      "Epoch 1/30\n",
      "10098/10098 [==============================] - 10s 985us/sample - loss: 2.0135 - accuracy: 0.1920 - val_loss: 1.9180 - val_accuracy: 0.3067\n",
      "Epoch 2/30\n",
      "10098/10098 [==============================] - 6s 600us/sample - loss: 1.8971 - accuracy: 0.2666 - val_loss: 1.8232 - val_accuracy: 0.4206\n",
      "Epoch 3/30\n",
      "10098/10098 [==============================] - 5s 537us/sample - loss: 1.8265 - accuracy: 0.3081 - val_loss: 1.7602 - val_accuracy: 0.4514\n",
      "Epoch 4/30\n",
      "10098/10098 [==============================] - 5s 541us/sample - loss: 1.7531 - accuracy: 0.3387 - val_loss: 1.7057 - val_accuracy: 0.4729\n",
      "Epoch 5/30\n",
      "10098/10098 [==============================] - 6s 643us/sample - loss: 1.7043 - accuracy: 0.3621 - val_loss: 1.6632 - val_accuracy: 0.4827\n",
      "Epoch 6/30\n",
      "10098/10098 [==============================] - 6s 634us/sample - loss: 1.6537 - accuracy: 0.3872 - val_loss: 1.6202 - val_accuracy: 0.4944\n",
      "Epoch 7/30\n",
      "10098/10098 [==============================] - 6s 566us/sample - loss: 1.6166 - accuracy: 0.3958 - val_loss: 1.5917 - val_accuracy: 0.4967\n",
      "Epoch 8/30\n",
      "10098/10098 [==============================] - 6s 624us/sample - loss: 1.5813 - accuracy: 0.4090 - val_loss: 1.5627 - val_accuracy: 0.5117\n",
      "Epoch 9/30\n",
      "10098/10098 [==============================] - 7s 666us/sample - loss: 1.5473 - accuracy: 0.4265 - val_loss: 1.5386 - val_accuracy: 0.5135\n",
      "Epoch 10/30\n",
      "10098/10098 [==============================] - 7s 710us/sample - loss: 1.5117 - accuracy: 0.4400 - val_loss: 1.5146 - val_accuracy: 0.5177\n",
      "Epoch 11/30\n",
      "10098/10098 [==============================] - 6s 643us/sample - loss: 1.4860 - accuracy: 0.4447 - val_loss: 1.4926 - val_accuracy: 0.5196\n",
      "Epoch 12/30\n",
      "10098/10098 [==============================] - 7s 724us/sample - loss: 1.4590 - accuracy: 0.4540 - val_loss: 1.4774 - val_accuracy: 0.5247\n",
      "Epoch 13/30\n",
      "10098/10098 [==============================] - 8s 802us/sample - loss: 1.4312 - accuracy: 0.4662 - val_loss: 1.4653 - val_accuracy: 0.5257\n",
      "Epoch 14/30\n",
      "10098/10098 [==============================] - 7s 693us/sample - loss: 1.3966 - accuracy: 0.4827 - val_loss: 1.4471 - val_accuracy: 0.5229\n",
      "Epoch 15/30\n",
      "10098/10098 [==============================] - 7s 661us/sample - loss: 1.3865 - accuracy: 0.4811 - val_loss: 1.4360 - val_accuracy: 0.5252\n",
      "Epoch 16/30\n",
      "10098/10098 [==============================] - 7s 702us/sample - loss: 1.3689 - accuracy: 0.4888 - val_loss: 1.4249 - val_accuracy: 0.5275\n",
      "Epoch 17/30\n",
      "10098/10098 [==============================] - 7s 679us/sample - loss: 1.3387 - accuracy: 0.4994 - val_loss: 1.4130 - val_accuracy: 0.5271\n",
      "Epoch 18/30\n",
      "10098/10098 [==============================] - 7s 723us/sample - loss: 1.3258 - accuracy: 0.5101 - val_loss: 1.4062 - val_accuracy: 0.5322\n",
      "Epoch 19/30\n",
      "10098/10098 [==============================] - 7s 686us/sample - loss: 1.3110 - accuracy: 0.5063 - val_loss: 1.3964 - val_accuracy: 0.5327\n",
      "Epoch 20/30\n",
      "10098/10098 [==============================] - 7s 694us/sample - loss: 1.2962 - accuracy: 0.5181 - val_loss: 1.3904 - val_accuracy: 0.5313\n",
      "Epoch 21/30\n",
      "10098/10098 [==============================] - 7s 648us/sample - loss: 1.2658 - accuracy: 0.5328 - val_loss: 1.3829 - val_accuracy: 0.5303\n",
      "Epoch 22/30\n",
      "10098/10098 [==============================] - 7s 683us/sample - loss: 1.2611 - accuracy: 0.5356 - val_loss: 1.3784 - val_accuracy: 0.5373\n",
      "Epoch 23/30\n",
      "10098/10098 [==============================] - 6s 609us/sample - loss: 1.2419 - accuracy: 0.5299 - val_loss: 1.3712 - val_accuracy: 0.5350\n",
      "Epoch 24/30\n",
      "10098/10098 [==============================] - 6s 611us/sample - loss: 1.2201 - accuracy: 0.5451 - val_loss: 1.3641 - val_accuracy: 0.5317\n",
      "Epoch 25/30\n",
      "10098/10098 [==============================] - 6s 619us/sample - loss: 1.2148 - accuracy: 0.5437 - val_loss: 1.3603 - val_accuracy: 0.5345\n",
      "Epoch 26/30\n",
      "10098/10098 [==============================] - 7s 671us/sample - loss: 1.2002 - accuracy: 0.5512 - val_loss: 1.3550 - val_accuracy: 0.5359\n",
      "Epoch 27/30\n",
      "10098/10098 [==============================] - 7s 705us/sample - loss: 1.1873 - accuracy: 0.5550 - val_loss: 1.3513 - val_accuracy: 0.5350\n",
      "Epoch 28/30\n",
      "10098/10098 [==============================] - 7s 701us/sample - loss: 1.1713 - accuracy: 0.5600 - val_loss: 1.3481 - val_accuracy: 0.5355\n",
      "Epoch 29/30\n",
      "10098/10098 [==============================] - 7s 735us/sample - loss: 1.1471 - accuracy: 0.5705 - val_loss: 1.3450 - val_accuracy: 0.5341\n",
      "Epoch 30/30\n",
      "10098/10098 [==============================] - 6s 630us/sample - loss: 1.1428 - accuracy: 0.5684 - val_loss: 1.3445 - val_accuracy: 0.5331\n"
     ]
    }
   ],
   "source": [
    "model.fit(train_lyrics, train_genres, epochs=30, validation_data=(val_lyrics, val_genres), batch_size=16, shuffle=True);"
   ]
  },
  {
   "cell_type": "markdown",
   "metadata": {},
   "source": [
    "## Testing the Neural Network's performace + Confusion Matrix"
   ]
  },
  {
   "cell_type": "code",
   "execution_count": 87,
   "metadata": {},
   "outputs": [
    {
     "name": "stdout",
     "output_type": "stream",
     "text": [
      "2160/2160 [==============================] - 1s 620us/sample - loss: 1.3106 - accuracy: 0.5542\n"
     ]
    }
   ],
   "source": [
    "results = model.evaluate(test_lyrics, test_genres, batch_size=16)"
   ]
  },
  {
   "cell_type": "code",
   "execution_count": 88,
   "metadata": {},
   "outputs": [
    {
     "name": "stdout",
     "output_type": "stream",
     "text": [
      "[[106  42  10  30  34  21  21  22]\n",
      " [ 28  89   0  18  16  57  18  35]\n",
      " [  3   1 258   0  23   0   6   0]\n",
      " [  9  15   0 168   9   6  11  38]\n",
      " [ 13  11  33  12 157  10  28  10]\n",
      " [  9  22   4   3   7 159  13  22]\n",
      " [ 19  27  25  20  42  29 104  19]\n",
      " [ 17  28   0  27   2  15  23 156]]\n"
     ]
    }
   ],
   "source": [
    "from sklearn.metrics import confusion_matrix\n",
    "\n",
    "y_pred=model.predict_classes(test_lyrics)\n",
    "cm=confusion_matrix(one_hot_reverse(test_genres),y_pred)\n",
    "print(cm)"
   ]
  },
  {
   "cell_type": "code",
   "execution_count": 89,
   "metadata": {},
   "outputs": [
    {
     "name": "stdout",
     "output_type": "stream",
     "text": [
      "                   Pop  Rock  Hip-Hop/Rap  Country  R&B/Soul  Metal  \\\n",
      "Pop                106    42           10       30        34     21   \n",
      "Rock                28    89            0       18        16     57   \n",
      "Hip-Hop/Rap          3     1          258        0        23      0   \n",
      "Country              9    15            0      168         9      6   \n",
      "R&B/Soul            13    11           33       12       157     10   \n",
      "Metal                9    22            4        3         7    159   \n",
      "Alternative/Indie   19    27           25       20        42     29   \n",
      "Folk                17    28            0       27         2     15   \n",
      "\n",
      "                   Alternative/Indie  Folk  \n",
      "Pop                               21    22  \n",
      "Rock                              18    35  \n",
      "Hip-Hop/Rap                        6     0  \n",
      "Country                           11    38  \n",
      "R&B/Soul                          28    10  \n",
      "Metal                             13    22  \n",
      "Alternative/Indie                104    19  \n",
      "Folk                              23   156  \n"
     ]
    },
    {
     "data": {
      "text/plain": [
       "(8.0, 0.0)"
      ]
     },
     "execution_count": 89,
     "metadata": {},
     "output_type": "execute_result"
    },
    {
     "data": {
      "image/png": "[encoded data removed]",
      "text/plain": [
       "<Figure size 720x504 with 2 Axes>"
      ]
     },
     "metadata": {
      "needs_background": "light"
     },
     "output_type": "display_data"
    }
   ],
   "source": [
    "import seaborn as sn\n",
    "import pandas as pd\n",
    "import matplotlib.pyplot as plt\n",
    "\n",
    "genre_list = ['Pop','Rock', 'Hip-Hop/Rap', 'Country', 'R&B/Soul', 'Metal', 'Alternative/Indie', 'Folk']\n",
    "\n",
    "df_cm = pd.DataFrame(cm, index = genre_list, columns = genre_list)\n",
    "print(df_cm)\n",
    "plt.figure(figsize = (10,7))\n",
    "sn.heatmap(df_cm, annot=True, linewidth=0.5, fmt='g', cmap=\"BuPu\")\n",
    "b, t = plt.ylim() # discover the values for bottom and top\n",
    "b += 0.5 # Add 0.5 to the bottom\n",
    "t -= 0.5 # Subtract 0.5 from the top\n",
    "plt.ylim(b, t) # update the ylim(bottom, top) values"
   ]
  },
  {
   "cell_type": "code",
   "execution_count": null,
   "metadata": {},
   "outputs": [],
   "source": []
  },
  {
   "cell_type": "code",
   "execution_count": null,
   "metadata": {},
   "outputs": [],
   "source": []
  }
 ],
 "metadata": {
  "kernelspec": {
   "display_name": "Python 3",
   "language": "python",
   "name": "python3"
  },
  "language_info": {
   "codemirror_mode": {
    "name": "ipython",
    "version": 3
   },
   "file_extension": ".py",
   "mimetype": "text/x-python",
   "name": "python",
   "nbconvert_exporter": "python",
   "pygments_lexer": "ipython3",
   "version": "3.7.4"
  }
 },
 "nbformat": 4,
 "nbformat_minor": 2
}
