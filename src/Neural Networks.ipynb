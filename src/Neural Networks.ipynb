{
 "cells": [
  {
   "cell_type": "code",
   "execution_count": 1,
   "metadata": {},
   "outputs": [
    {
     "name": "stderr",
     "output_type": "stream",
     "text": [
      "[nltk_data] Downloading package wordnet to\n",
      "[nltk_data]     /home/nicktehrany/nltk_data...\n",
      "[nltk_data]   Package wordnet is already up-to-date!\n",
      "[nltk_data] Downloading package stopwords to\n",
      "[nltk_data]     /home/nicktehrany/nltk_data...\n",
      "[nltk_data]   Package stopwords is already up-to-date!\n"
     ]
    }
   ],
   "source": [
    "import numpy as np\n",
    "import pandas as pd # for loading data\n",
    "import re # for removing special characters\n",
    "from nltk.stem import WordNetLemmatizer\n",
    "wordnet_lemmatizer = WordNetLemmatizer()\n",
    "import nltk\n",
    "nltk.download('wordnet')\n",
    "nltk.download('stopwords')\n",
    "from nltk.corpus import stopwords # For removing stopwords"
   ]
  },
  {
   "cell_type": "code",
   "execution_count": 2,
   "metadata": {},
   "outputs": [],
   "source": [
    "df = pd.read_csv(\"dataset.csv\")\n",
    "df = df.drop(['Singer', 'Date', 'Tags'], axis=1)"
   ]
  },
  {
   "cell_type": "code",
   "execution_count": 3,
   "metadata": {},
   "outputs": [],
   "source": [
    "def get_index(word, word_list):\n",
    "    for index, value in enumerate(word_list):\n",
    "        if word == value:\n",
    "            return index"
   ]
  },
  {
   "cell_type": "markdown",
   "metadata": {},
   "source": [
    "## Creating a word list of all possible words from all Song Lyrics"
   ]
  },
  {
   "cell_type": "code",
   "execution_count": 4,
   "metadata": {},
   "outputs": [],
   "source": [
    "corpus = []\n",
    "lyrics = df['Lyrics']\n",
    "sw = stopwords.words(\"english\")\n",
    "word_list = []\n",
    "for i, value in df.iterrows():\n",
    "    text = re.sub('[^a-zA-Z]', ' ', str(lyrics[i])) # removes special characters\n",
    "    text = text.lower() # lowercases everything\n",
    "    text = text.split() # splits words\n",
    "    text = [wordnet_lemmatizer.lemmatize(word, pos=\"v\") for word in text if not word in set(sw)]\n",
    "    formatted_text = \"\"\n",
    "    for word in text:\n",
    "        if word not in word_list:\n",
    "            word_list.append(word)\n",
    "        formatted_text+=word+\" \"\n",
    "    corpus.append(formatted_text)\n",
    "    df['Lyrics'][i] = formatted_text\n",
    "lyrics = corpus\n",
    "\n",
    "#Cleaning variables to save some memory\n",
    "del corpus, sw, text"
   ]
  },
  {
   "cell_type": "markdown",
   "metadata": {},
   "source": [
    "### Function that creates a one-hot vector for the given text from the word_list"
   ]
  },
  {
   "cell_type": "code",
   "execution_count": 5,
   "metadata": {},
   "outputs": [
    {
     "name": "stderr",
     "output_type": "stream",
     "text": [
      "/home/nicktehrany/.local/lib/python3.6/site-packages/tensorflow/python/framework/dtypes.py:516: FutureWarning: Passing (type, 1) or '1type' as a synonym of type is deprecated; in a future version of numpy, it will be understood as (type, (1,)) / '(1,)type'.\n",
      "  _np_qint8 = np.dtype([(\"qint8\", np.int8, 1)])\n",
      "/home/nicktehrany/.local/lib/python3.6/site-packages/tensorflow/python/framework/dtypes.py:517: FutureWarning: Passing (type, 1) or '1type' as a synonym of type is deprecated; in a future version of numpy, it will be understood as (type, (1,)) / '(1,)type'.\n",
      "  _np_quint8 = np.dtype([(\"quint8\", np.uint8, 1)])\n",
      "/home/nicktehrany/.local/lib/python3.6/site-packages/tensorflow/python/framework/dtypes.py:518: FutureWarning: Passing (type, 1) or '1type' as a synonym of type is deprecated; in a future version of numpy, it will be understood as (type, (1,)) / '(1,)type'.\n",
      "  _np_qint16 = np.dtype([(\"qint16\", np.int16, 1)])\n",
      "/home/nicktehrany/.local/lib/python3.6/site-packages/tensorflow/python/framework/dtypes.py:519: FutureWarning: Passing (type, 1) or '1type' as a synonym of type is deprecated; in a future version of numpy, it will be understood as (type, (1,)) / '(1,)type'.\n",
      "  _np_quint16 = np.dtype([(\"quint16\", np.uint16, 1)])\n",
      "/home/nicktehrany/.local/lib/python3.6/site-packages/tensorflow/python/framework/dtypes.py:520: FutureWarning: Passing (type, 1) or '1type' as a synonym of type is deprecated; in a future version of numpy, it will be understood as (type, (1,)) / '(1,)type'.\n",
      "  _np_qint32 = np.dtype([(\"qint32\", np.int32, 1)])\n",
      "/home/nicktehrany/.local/lib/python3.6/site-packages/tensorflow/python/framework/dtypes.py:525: FutureWarning: Passing (type, 1) or '1type' as a synonym of type is deprecated; in a future version of numpy, it will be understood as (type, (1,)) / '(1,)type'.\n",
      "  np_resource = np.dtype([(\"resource\", np.ubyte, 1)])\n",
      "/home/nicktehrany/.local/lib/python3.6/site-packages/tensorboard/compat/tensorflow_stub/dtypes.py:541: FutureWarning: Passing (type, 1) or '1type' as a synonym of type is deprecated; in a future version of numpy, it will be understood as (type, (1,)) / '(1,)type'.\n",
      "  _np_qint8 = np.dtype([(\"qint8\", np.int8, 1)])\n",
      "/home/nicktehrany/.local/lib/python3.6/site-packages/tensorboard/compat/tensorflow_stub/dtypes.py:542: FutureWarning: Passing (type, 1) or '1type' as a synonym of type is deprecated; in a future version of numpy, it will be understood as (type, (1,)) / '(1,)type'.\n",
      "  _np_quint8 = np.dtype([(\"quint8\", np.uint8, 1)])\n",
      "/home/nicktehrany/.local/lib/python3.6/site-packages/tensorboard/compat/tensorflow_stub/dtypes.py:543: FutureWarning: Passing (type, 1) or '1type' as a synonym of type is deprecated; in a future version of numpy, it will be understood as (type, (1,)) / '(1,)type'.\n",
      "  _np_qint16 = np.dtype([(\"qint16\", np.int16, 1)])\n",
      "/home/nicktehrany/.local/lib/python3.6/site-packages/tensorboard/compat/tensorflow_stub/dtypes.py:544: FutureWarning: Passing (type, 1) or '1type' as a synonym of type is deprecated; in a future version of numpy, it will be understood as (type, (1,)) / '(1,)type'.\n",
      "  _np_quint16 = np.dtype([(\"quint16\", np.uint16, 1)])\n",
      "/home/nicktehrany/.local/lib/python3.6/site-packages/tensorboard/compat/tensorflow_stub/dtypes.py:545: FutureWarning: Passing (type, 1) or '1type' as a synonym of type is deprecated; in a future version of numpy, it will be understood as (type, (1,)) / '(1,)type'.\n",
      "  _np_qint32 = np.dtype([(\"qint32\", np.int32, 1)])\n",
      "/home/nicktehrany/.local/lib/python3.6/site-packages/tensorboard/compat/tensorflow_stub/dtypes.py:550: FutureWarning: Passing (type, 1) or '1type' as a synonym of type is deprecated; in a future version of numpy, it will be understood as (type, (1,)) / '(1,)type'.\n",
      "  np_resource = np.dtype([(\"resource\", np.ubyte, 1)])\n"
     ]
    }
   ],
   "source": [
    "from tensorflow.keras.utils import to_categorical\n",
    "\n",
    "def one_hot(text, word_list):\n",
    "    word_vector = np.zeros(shape=(1,len(word_list)))\n",
    "    text = text.split() # splits words\n",
    "    for w in text:\n",
    "        word_vector[0, get_index(w, word_list)] = 1\n",
    "    return word_vector[0]"
   ]
  },
  {
   "cell_type": "markdown",
   "metadata": {},
   "source": [
    "\n",
    "## Creating one-hot vector for genres"
   ]
  },
  {
   "cell_type": "code",
   "execution_count": 6,
   "metadata": {},
   "outputs": [],
   "source": [
    "from tensorflow.keras.utils import to_categorical\n",
    "genres = []\n",
    "\n",
    "for i, value in df.iterrows():\n",
    "    genre = df['Genre'][i]\n",
    "    index = 0\n",
    "    if genre == '[\\'Pop\\']': index = 0\n",
    "    elif genre == '[\\'Rock\\']': index = 1\n",
    "    elif genre == '[\\'Hip-Hop/Rap\\']': index = 2\n",
    "    elif genre == '[\\'Country\\']': index = 3\n",
    "    elif genre == '[\\'R&B/Soul\\']': index = 4\n",
    "    elif genre == '[\\'Metal\\']': index = 5\n",
    "    elif genre == '[\\'Alternative/Indie\\']': index = 6\n",
    "    elif genre == '[\\'Folk\\']': index = 7\n",
    "    genres.append(index)\n",
    "\n",
    "genres = to_categorical(genres, 8)"
   ]
  },
  {
   "cell_type": "markdown",
   "metadata": {},
   "source": [
    "## Replace all the lyrics with their respctive vector of word occurrences to be used as the input layer for the neural network"
   ]
  },
  {
   "cell_type": "code",
   "execution_count": 7,
   "metadata": {
    "scrolled": false
   },
   "outputs": [
    {
     "name": "stdout",
     "output_type": "stream",
     "text": [
      "(14400, 40677)\n"
     ]
    }
   ],
   "source": [
    "all_lyrics = np.zeros(shape=(len(df),len(word_list)))\n",
    "for index, value in df.iterrows():\n",
    "    all_lyrics[index] = one_hot(str(df['Lyrics'][index]), word_list)\n",
    "print(all_lyrics.shape)\n",
    "\n",
    "#Cleaning variables to save some memory\n",
    "del df"
   ]
  },
  {
   "cell_type": "markdown",
   "metadata": {},
   "source": [
    "## **Don't rerun the cell below, as this will result in new test/train sets. Can rerun all other cells except this one. Probably also don't want to rerun all cells above since they always do the exact same thing**"
   ]
  },
  {
   "cell_type": "code",
   "execution_count": 8,
   "metadata": {},
   "outputs": [],
   "source": [
    "from sklearn.model_selection import train_test_split\n",
    "\n",
    "lyrics_train, lyrics_test, genre_train, genre_test = train_test_split(all_lyrics, genres, train_size = 0.85, test_size = 0.15, shuffle=True) \n",
    "\n",
    "#Cleaning Lists, since they take up almost 5GB\n",
    "del all_lyrics, genres"
   ]
  },
  {
   "cell_type": "markdown",
   "metadata": {},
   "source": [
    "# Neural Network stuff \n",
    "## **Modify and run only the cells below to change the neural network**"
   ]
  },
  {
   "cell_type": "code",
   "execution_count": 9,
   "metadata": {},
   "outputs": [
    {
     "name": "stdout",
     "output_type": "stream",
     "text": [
      "WARNING:tensorflow:From /home/nicktehrany/.local/lib/python3.6/site-packages/tensorflow/python/ops/init_ops.py:1251: calling VarianceScaling.__init__ (from tensorflow.python.ops.init_ops) with dtype is deprecated and will be removed in a future version.\n",
      "Instructions for updating:\n",
      "Call initializer instance with the dtype argument instead of passing it to the constructor\n",
      "Model: \"sequential\"\n",
      "_________________________________________________________________\n",
      "Layer (type)                 Output Shape              Param #   \n",
      "=================================================================\n",
      "dense (Dense)                (None, 128)               5206784   \n",
      "_________________________________________________________________\n",
      "activation (Activation)      (None, 128)               0         \n",
      "_________________________________________________________________\n",
      "dense_1 (Dense)              (None, 20)                2580      \n",
      "_________________________________________________________________\n",
      "dense_2 (Dense)              (None, 8)                 168       \n",
      "_________________________________________________________________\n",
      "activation_1 (Activation)    (None, 8)                 0         \n",
      "=================================================================\n",
      "Total params: 5,209,532\n",
      "Trainable params: 5,209,532\n",
      "Non-trainable params: 0\n",
      "_________________________________________________________________\n"
     ]
    }
   ],
   "source": [
    "from tensorflow.keras.models import Sequential\n",
    "from tensorflow.keras.layers import Dense, Activation\n",
    "\n",
    "model = Sequential()\n",
    "model.add(Dense(128, input_shape=(len(word_list),))) # first dense layer, 32 hidden units\n",
    "model.add(Activation('relu'))            # activation layer\n",
    "model.add(Dense(20)) \n",
    "model.add(Dense(8))                     # second dense layer\n",
    "model.add(Activation('softmax'))         # output class probabilities\n",
    "\n",
    "model.summary()"
   ]
  },
  {
   "cell_type": "code",
   "execution_count": 10,
   "metadata": {},
   "outputs": [],
   "source": [
    "from tensorflow.keras.optimizers import SGD, Adam\n",
    "\n",
    "optimizer = Adam(lr=0.001) # lr is the learning rate\n",
    "model.compile(optimizer=optimizer, loss='categorical_crossentropy', metrics=['accuracy'])"
   ]
  },
  {
   "cell_type": "code",
   "execution_count": 11,
   "metadata": {},
   "outputs": [
    {
     "name": "stdout",
     "output_type": "stream",
     "text": [
      "Train on 11016 samples, validate on 1224 samples\n",
      "Epoch 1/10\n",
      "11016/11016 [==============================] - 5s 493us/sample - loss: 1.4174 - acc: 0.4812 - val_loss: 1.2395 - val_acc: 0.5637\n",
      "Epoch 2/10\n",
      "11016/11016 [==============================] - 5s 472us/sample - loss: 0.6513 - acc: 0.7914 - val_loss: 1.3990 - val_acc: 0.5580\n",
      "Epoch 3/10\n",
      "11016/11016 [==============================] - 5s 473us/sample - loss: 0.3167 - acc: 0.9078 - val_loss: 1.6154 - val_acc: 0.5547\n",
      "Epoch 4/10\n",
      "11016/11016 [==============================] - 5s 474us/sample - loss: 0.1636 - acc: 0.9615 - val_loss: 1.9057 - val_acc: 0.5482\n",
      "Epoch 5/10\n",
      "11016/11016 [==============================] - 5s 475us/sample - loss: 0.0980 - acc: 0.9828 - val_loss: 2.1230 - val_acc: 0.5253\n",
      "Epoch 6/10\n",
      "11016/11016 [==============================] - 5s 479us/sample - loss: 0.0712 - acc: 0.9883 - val_loss: 2.1456 - val_acc: 0.5408\n",
      "Epoch 7/10\n",
      "11016/11016 [==============================] - 5s 479us/sample - loss: 0.0522 - acc: 0.9906 - val_loss: 2.4167 - val_acc: 0.5408\n",
      "Epoch 8/10\n",
      "11016/11016 [==============================] - 5s 480us/sample - loss: 0.0574 - acc: 0.9912 - val_loss: 2.3396 - val_acc: 0.5278\n",
      "Epoch 9/10\n",
      "11016/11016 [==============================] - 5s 481us/sample - loss: 0.0557 - acc: 0.9916 - val_loss: 2.3238 - val_acc: 0.5400\n",
      "Epoch 10/10\n",
      "11016/11016 [==============================] - 5s 480us/sample - loss: 0.0455 - acc: 0.9925 - val_loss: 2.4244 - val_acc: 0.5408\n"
     ]
    }
   ],
   "source": [
    "model.fit(lyrics_train, genre_train, epochs=10, validation_split=1/10);"
   ]
  },
  {
   "cell_type": "markdown",
   "metadata": {},
   "source": [
    "## Testing the Neural Network's performace"
   ]
  },
  {
   "cell_type": "code",
   "execution_count": 12,
   "metadata": {},
   "outputs": [
    {
     "name": "stdout",
     "output_type": "stream",
     "text": [
      "2160/2160 [==============================] - 0s 120us/sample - loss: 2.6641 - acc: 0.4954\n"
     ]
    }
   ],
   "source": [
    "results = model.evaluate(lyrics_test, genre_test, batch_size=128)"
   ]
  },
  {
   "cell_type": "code",
   "execution_count": null,
   "metadata": {},
   "outputs": [],
   "source": []
  },
  {
   "cell_type": "code",
   "execution_count": null,
   "metadata": {},
   "outputs": [],
   "source": []
  }
 ],
 "metadata": {
  "kernelspec": {
   "display_name": "Python 3",
   "language": "python",
   "name": "python3"
  },
  "language_info": {
   "codemirror_mode": {
    "name": "ipython",
    "version": 3
   },
   "file_extension": ".py",
   "mimetype": "text/x-python",
   "name": "python",
   "nbconvert_exporter": "python",
   "pygments_lexer": "ipython3",
   "version": "3.6.8"
  }
 },
 "nbformat": 4,
 "nbformat_minor": 2
}
