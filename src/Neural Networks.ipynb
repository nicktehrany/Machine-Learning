{
 "cells": [
  {
   "cell_type": "code",
   "execution_count": 1,
   "metadata": {},
   "outputs": [],
   "source": [
    "import numpy as np\n",
    "import pandas as pd # for loading data"
   ]
  },
  {
   "cell_type": "code",
   "execution_count": 2,
   "metadata": {},
   "outputs": [
    {
     "name": "stdout",
     "output_type": "stream",
     "text": [
      "/home/nicktehrany/Documents/Uni/3rd Year/P4/Machine Learning/Project\n"
     ]
    }
   ],
   "source": [
    "cd .."
   ]
  },
  {
   "cell_type": "code",
   "execution_count": 3,
   "metadata": {},
   "outputs": [
    {
     "name": "stderr",
     "output_type": "stream",
     "text": [
      "/home/nicktehrany/.local/lib/python3.6/site-packages/tensorflow/python/framework/dtypes.py:516: FutureWarning: Passing (type, 1) or '1type' as a synonym of type is deprecated; in a future version of numpy, it will be understood as (type, (1,)) / '(1,)type'.\n",
      "  _np_qint8 = np.dtype([(\"qint8\", np.int8, 1)])\n",
      "/home/nicktehrany/.local/lib/python3.6/site-packages/tensorflow/python/framework/dtypes.py:517: FutureWarning: Passing (type, 1) or '1type' as a synonym of type is deprecated; in a future version of numpy, it will be understood as (type, (1,)) / '(1,)type'.\n",
      "  _np_quint8 = np.dtype([(\"quint8\", np.uint8, 1)])\n",
      "/home/nicktehrany/.local/lib/python3.6/site-packages/tensorflow/python/framework/dtypes.py:518: FutureWarning: Passing (type, 1) or '1type' as a synonym of type is deprecated; in a future version of numpy, it will be understood as (type, (1,)) / '(1,)type'.\n",
      "  _np_qint16 = np.dtype([(\"qint16\", np.int16, 1)])\n",
      "/home/nicktehrany/.local/lib/python3.6/site-packages/tensorflow/python/framework/dtypes.py:519: FutureWarning: Passing (type, 1) or '1type' as a synonym of type is deprecated; in a future version of numpy, it will be understood as (type, (1,)) / '(1,)type'.\n",
      "  _np_quint16 = np.dtype([(\"quint16\", np.uint16, 1)])\n",
      "/home/nicktehrany/.local/lib/python3.6/site-packages/tensorflow/python/framework/dtypes.py:520: FutureWarning: Passing (type, 1) or '1type' as a synonym of type is deprecated; in a future version of numpy, it will be understood as (type, (1,)) / '(1,)type'.\n",
      "  _np_qint32 = np.dtype([(\"qint32\", np.int32, 1)])\n",
      "/home/nicktehrany/.local/lib/python3.6/site-packages/tensorflow/python/framework/dtypes.py:525: FutureWarning: Passing (type, 1) or '1type' as a synonym of type is deprecated; in a future version of numpy, it will be understood as (type, (1,)) / '(1,)type'.\n",
      "  np_resource = np.dtype([(\"resource\", np.ubyte, 1)])\n",
      "/home/nicktehrany/.local/lib/python3.6/site-packages/tensorboard/compat/tensorflow_stub/dtypes.py:541: FutureWarning: Passing (type, 1) or '1type' as a synonym of type is deprecated; in a future version of numpy, it will be understood as (type, (1,)) / '(1,)type'.\n",
      "  _np_qint8 = np.dtype([(\"qint8\", np.int8, 1)])\n",
      "/home/nicktehrany/.local/lib/python3.6/site-packages/tensorboard/compat/tensorflow_stub/dtypes.py:542: FutureWarning: Passing (type, 1) or '1type' as a synonym of type is deprecated; in a future version of numpy, it will be understood as (type, (1,)) / '(1,)type'.\n",
      "  _np_quint8 = np.dtype([(\"quint8\", np.uint8, 1)])\n",
      "/home/nicktehrany/.local/lib/python3.6/site-packages/tensorboard/compat/tensorflow_stub/dtypes.py:543: FutureWarning: Passing (type, 1) or '1type' as a synonym of type is deprecated; in a future version of numpy, it will be understood as (type, (1,)) / '(1,)type'.\n",
      "  _np_qint16 = np.dtype([(\"qint16\", np.int16, 1)])\n",
      "/home/nicktehrany/.local/lib/python3.6/site-packages/tensorboard/compat/tensorflow_stub/dtypes.py:544: FutureWarning: Passing (type, 1) or '1type' as a synonym of type is deprecated; in a future version of numpy, it will be understood as (type, (1,)) / '(1,)type'.\n",
      "  _np_quint16 = np.dtype([(\"quint16\", np.uint16, 1)])\n",
      "/home/nicktehrany/.local/lib/python3.6/site-packages/tensorboard/compat/tensorflow_stub/dtypes.py:545: FutureWarning: Passing (type, 1) or '1type' as a synonym of type is deprecated; in a future version of numpy, it will be understood as (type, (1,)) / '(1,)type'.\n",
      "  _np_qint32 = np.dtype([(\"qint32\", np.int32, 1)])\n",
      "/home/nicktehrany/.local/lib/python3.6/site-packages/tensorboard/compat/tensorflow_stub/dtypes.py:550: FutureWarning: Passing (type, 1) or '1type' as a synonym of type is deprecated; in a future version of numpy, it will be understood as (type, (1,)) / '(1,)type'.\n",
      "  np_resource = np.dtype([(\"resource\", np.ubyte, 1)])\n",
      "[nltk_data] Downloading package wordnet to\n",
      "[nltk_data]     /home/nicktehrany/nltk_data...\n",
      "[nltk_data]   Package wordnet is already up-to-date!\n",
      "[nltk_data] Downloading package stopwords to\n",
      "[nltk_data]     /home/nicktehrany/nltk_data...\n",
      "[nltk_data]   Package stopwords is already up-to-date!\n"
     ]
    }
   ],
   "source": [
    "# Importing our own Functions\n",
    "from util.helperfunctions import one_hot, one_hot_genres, clean_text, one_hot_reverse"
   ]
  },
  {
   "cell_type": "code",
   "execution_count": 4,
   "metadata": {},
   "outputs": [
    {
     "name": "stdout",
     "output_type": "stream",
     "text": [
      "/home/nicktehrany/Documents/Uni/3rd Year/P4/Machine Learning/Project/src\n"
     ]
    }
   ],
   "source": [
    "cd src"
   ]
  },
  {
   "cell_type": "code",
   "execution_count": 5,
   "metadata": {},
   "outputs": [],
   "source": [
    "train_df = pd.read_csv(\"train.csv\")"
   ]
  },
  {
   "cell_type": "markdown",
   "metadata": {},
   "source": [
    "## Cleaning the test set lyrics and creating One-Hots for train data's genres and just cleaned lyrics"
   ]
  },
  {
   "cell_type": "code",
   "execution_count": 6,
   "metadata": {},
   "outputs": [],
   "source": [
    "lyrics, word_list = clean_text(train_df['Lyrics'], 1)\n",
    "\n",
    "# writing cleaned text back to df\n",
    "index = 0\n",
    "for text in lyrics:\n",
    "    train_df['Lyrics'][index] = text\n",
    "    index+=1\n",
    "del lyrics"
   ]
  },
  {
   "cell_type": "code",
   "execution_count": 7,
   "metadata": {},
   "outputs": [],
   "source": [
    "train_genres = one_hot_genres(train_df['Genre'])"
   ]
  },
  {
   "cell_type": "markdown",
   "metadata": {},
   "source": [
    "## Replace all the lyrics with their respctive vector of word occurrences to be used as the input layer for the neural network"
   ]
  },
  {
   "cell_type": "code",
   "execution_count": 8,
   "metadata": {
    "scrolled": false
   },
   "outputs": [
    {
     "name": "stdout",
     "output_type": "stream",
     "text": [
      "(12240, 37818)\n"
     ]
    }
   ],
   "source": [
    "train_lyrics = np.zeros(shape=(len(train_df),len(word_list)))\n",
    "for index, value in train_df.iterrows():\n",
    "    train_lyrics[index] = one_hot(str(train_df['Lyrics'][index]), word_list, len(word_list))\n",
    "print(train_lyrics.shape)\n",
    "lyrics_size = len(word_list)\n",
    "\n",
    "# Cleaning no more used variables\n",
    "del train_df"
   ]
  },
  {
   "cell_type": "markdown",
   "metadata": {},
   "source": [
    "## Cleaning the test set lyrics and creating One-Hots for test data's genres and just cleaned lyrics"
   ]
  },
  {
   "cell_type": "code",
   "execution_count": 9,
   "metadata": {},
   "outputs": [],
   "source": [
    "test_df = pd.read_csv(\"test.csv\")\n",
    "lyrics, dummy_list = clean_text(test_df['Lyrics'], 0)\n",
    "\n",
    "# writing cleaned text back to df\n",
    "index = 0\n",
    "for text in lyrics:\n",
    "    test_df['Lyrics'][index] = text\n",
    "    index+=1\n",
    "del lyrics"
   ]
  },
  {
   "cell_type": "code",
   "execution_count": 10,
   "metadata": {},
   "outputs": [],
   "source": [
    "test_genres = one_hot_genres(test_df['Genre'])"
   ]
  },
  {
   "cell_type": "code",
   "execution_count": 11,
   "metadata": {},
   "outputs": [
    {
     "name": "stdout",
     "output_type": "stream",
     "text": [
      "(2160, 37818)\n"
     ]
    }
   ],
   "source": [
    "test_lyrics = np.zeros(shape=(len(test_df), lyrics_size))\n",
    "for index, value in test_df.iterrows():\n",
    "    test_lyrics[index] = one_hot(str(test_df['Lyrics'][index]), word_list, lyrics_size)\n",
    "print(test_lyrics.shape)\n",
    "\n",
    "# Cleaning no more used variables\n",
    "del test_df"
   ]
  },
  {
   "cell_type": "markdown",
   "metadata": {},
   "source": [
    "# Neural Network stuff \n",
    "## **Modify and run only the cells below to change the neural network**"
   ]
  },
  {
   "cell_type": "code",
   "execution_count": 12,
   "metadata": {},
   "outputs": [
    {
     "name": "stdout",
     "output_type": "stream",
     "text": [
      "WARNING:tensorflow:From /home/nicktehrany/.local/lib/python3.6/site-packages/tensorflow/python/ops/init_ops.py:1251: calling VarianceScaling.__init__ (from tensorflow.python.ops.init_ops) with dtype is deprecated and will be removed in a future version.\n",
      "Instructions for updating:\n",
      "Call initializer instance with the dtype argument instead of passing it to the constructor\n",
      "WARNING:tensorflow:Large dropout rate: 0.8 (>0.5). In TensorFlow 2.x, dropout() uses dropout rate instead of keep_prob. Please ensure that this is intended.\n",
      "Model: \"sequential\"\n",
      "_________________________________________________________________\n",
      "Layer (type)                 Output Shape              Param #   \n",
      "=================================================================\n",
      "dense (Dense)                (None, 256)               9681664   \n",
      "_________________________________________________________________\n",
      "activation (Activation)      (None, 256)               0         \n",
      "_________________________________________________________________\n",
      "dropout (Dropout)            (None, 256)               0         \n",
      "_________________________________________________________________\n",
      "dense_1 (Dense)              (None, 32)                8224      \n",
      "_________________________________________________________________\n",
      "dense_2 (Dense)              (None, 8)                 264       \n",
      "_________________________________________________________________\n",
      "activation_1 (Activation)    (None, 8)                 0         \n",
      "=================================================================\n",
      "Total params: 9,690,152\n",
      "Trainable params: 9,690,152\n",
      "Non-trainable params: 0\n",
      "_________________________________________________________________\n"
     ]
    }
   ],
   "source": [
    "from tensorflow.keras.models import Sequential\n",
    "from tensorflow.keras.layers import Dense, Activation, Dropout\n",
    "\n",
    "model = Sequential()\n",
    "model.add(Dense(units=256, input_shape=(lyrics_size,)))\n",
    "model.add(Activation('relu'))            # activation layer\n",
    "model.add(Dropout(0.8))\n",
    "model.add(Dense(32))\n",
    "model.add(Dense(8))\n",
    "model.add(Activation('softmax'))         # output class probabilities\n",
    "\n",
    "model.summary()"
   ]
  },
  {
   "cell_type": "code",
   "execution_count": 13,
   "metadata": {},
   "outputs": [],
   "source": [
    "from tensorflow.keras.optimizers import SGD, Adam\n",
    "\n",
    "optimizer = Adam(lr=0.0001) # lr is the learning rate\n",
    "model.compile(optimizer=optimizer, loss='categorical_crossentropy', metrics=['accuracy'])"
   ]
  },
  {
   "cell_type": "code",
   "execution_count": 14,
   "metadata": {},
   "outputs": [
    {
     "name": "stdout",
     "output_type": "stream",
     "text": [
      "Train on 10159 samples, validate on 2081 samples\n",
      "Epoch 1/7\n",
      "10159/10159 [==============================] - 16s 2ms/sample - loss: 1.8922 - acc: 0.2853 - val_loss: 1.6814 - val_acc: 0.4306\n",
      "Epoch 2/7\n",
      "10159/10159 [==============================] - 16s 2ms/sample - loss: 1.5472 - acc: 0.4597 - val_loss: 1.4894 - val_acc: 0.4988\n",
      "Epoch 3/7\n",
      "10159/10159 [==============================] - 16s 2ms/sample - loss: 1.3333 - acc: 0.5408 - val_loss: 1.3959 - val_acc: 0.5195\n",
      "Epoch 4/7\n",
      "10159/10159 [==============================] - 16s 2ms/sample - loss: 1.1676 - acc: 0.6087 - val_loss: 1.3439 - val_acc: 0.5247\n",
      "Epoch 5/7\n",
      "10159/10159 [==============================] - 16s 2ms/sample - loss: 1.0475 - acc: 0.6532 - val_loss: 1.3198 - val_acc: 0.5286\n",
      "Epoch 6/7\n",
      "10159/10159 [==============================] - 16s 2ms/sample - loss: 0.9468 - acc: 0.6892 - val_loss: 1.3035 - val_acc: 0.5358\n",
      "Epoch 7/7\n",
      "10159/10159 [==============================] - 16s 2ms/sample - loss: 0.8454 - acc: 0.7260 - val_loss: 1.3016 - val_acc: 0.5339\n"
     ]
    }
   ],
   "source": [
    "model.fit(train_lyrics, train_genres, epochs=7, validation_split=17/100, batch_size=16);"
   ]
  },
  {
   "cell_type": "markdown",
   "metadata": {},
   "source": [
    "## Testing the Neural Network's performace + Confusion Matrix"
   ]
  },
  {
   "cell_type": "code",
   "execution_count": 15,
   "metadata": {},
   "outputs": [
    {
     "name": "stdout",
     "output_type": "stream",
     "text": [
      "2160/2160 [==============================] - 1s 279us/sample - loss: 1.3178 - acc: 0.5296\n"
     ]
    }
   ],
   "source": [
    "results = model.evaluate(test_lyrics, test_genres, batch_size=16)"
   ]
  },
  {
   "cell_type": "code",
   "execution_count": 16,
   "metadata": {},
   "outputs": [
    {
     "name": "stdout",
     "output_type": "stream",
     "text": [
      "[[ 89  33  14  35  41  33  24  23]\n",
      " [ 27  85   0  27  15  55  35  33]\n",
      " [  6   1 219   1  27   3   5   0]\n",
      " [  7  11   0 193  14   6  17  39]\n",
      " [ 12   8  21  13 145   9  19  10]\n",
      " [  7  29   3   9   6 166  20  21]\n",
      " [ 18  20  21  13  45  21 101  24]\n",
      " [ 18  27   0  40   7  21  22 146]]\n"
     ]
    }
   ],
   "source": [
    "from sklearn.metrics import confusion_matrix\n",
    "\n",
    "y_pred=model.predict_classes(test_lyrics)\n",
    "cm=confusion_matrix(one_hot_reverse(test_genres),y_pred)\n",
    "print(cm)"
   ]
  },
  {
   "cell_type": "code",
   "execution_count": 17,
   "metadata": {},
   "outputs": [
    {
     "name": "stdout",
     "output_type": "stream",
     "text": [
      "                   Pop  Rock  Hip-Hop/Rap  Country  R&B/Soul  Metal  \\\n",
      "Pop                 89    33           14       35        41     33   \n",
      "Rock                27    85            0       27        15     55   \n",
      "Hip-Hop/Rap          6     1          219        1        27      3   \n",
      "Country              7    11            0      193        14      6   \n",
      "R&B/Soul            12     8           21       13       145      9   \n",
      "Metal                7    29            3        9         6    166   \n",
      "Alternative/Indie   18    20           21       13        45     21   \n",
      "Folk                18    27            0       40         7     21   \n",
      "\n",
      "                   Alternative/Indie  Folk  \n",
      "Pop                               24    23  \n",
      "Rock                              35    33  \n",
      "Hip-Hop/Rap                        5     0  \n",
      "Country                           17    39  \n",
      "R&B/Soul                          19    10  \n",
      "Metal                             20    21  \n",
      "Alternative/Indie                101    24  \n",
      "Folk                              22   146  \n"
     ]
    },
    {
     "data": {
      "text/plain": [
       "(8.0, 0.0)"
      ]
     },
     "execution_count": 17,
     "metadata": {},
     "output_type": "execute_result"
    }
   ],
   "source": [
    "import seaborn as sn\n",
    "import pandas as pd\n",
    "import matplotlib.pyplot as plt\n",
    "\n",
    "genre_list = ['Pop','Rock', 'Hip-Hop/Rap', 'Country', 'R&B/Soul', 'Metal', 'Alternative/Indie', 'Folk']\n",
    "\n",
    "df_cm = pd.DataFrame(cm, index = genre_list, columns = genre_list)\n",
    "print(df_cm)\n",
    "plt.figure(figsize = (10,7))\n",
    "sn.heatmap(df_cm, annot=True, linewidth=0.5, fmt='g', cmap=\"BuPu\")\n",
    "b, t = plt.ylim() # discover the values for bottom and top\n",
    "b += 0.5 # Add 0.5 to the bottom\n",
    "t -= 0.5 # Subtract 0.5 from the top\n",
    "plt.ylim(b, t) # update the ylim(bottom, top) values"
   ]
  },
  {
   "cell_type": "markdown",
   "metadata": {},
   "source": [
    "## **Don't rerun the cell below, as this will result in adding dimensions to the sets, which will not work! Can rerun all other cells except this one.**"
   ]
  },
  {
   "cell_type": "code",
   "execution_count": 18,
   "metadata": {},
   "outputs": [],
   "source": [
    "cnn_lyrics_train = train_lyrics[:, :, None]\n",
    "cnn_lyrics_test = test_lyrics[:, :, None]"
   ]
  },
  {
   "cell_type": "markdown",
   "metadata": {},
   "source": [
    "## Convolutional Neural Network"
   ]
  },
  {
   "cell_type": "code",
   "execution_count": 21,
   "metadata": {},
   "outputs": [
    {
     "name": "stdout",
     "output_type": "stream",
     "text": [
      "Model: \"sequential_2\"\n",
      "_________________________________________________________________\n",
      "Layer (type)                 Output Shape              Param #   \n",
      "=================================================================\n",
      "conv1d_2 (Conv1D)            (None, 37818, 128)        256       \n",
      "_________________________________________________________________\n",
      "conv1d_3 (Conv1D)            (None, 37818, 32)         4128      \n",
      "_________________________________________________________________\n",
      "dropout_3 (Dropout)          (None, 37818, 32)         0         \n",
      "_________________________________________________________________\n",
      "flatten_1 (Flatten)          (None, 1210176)           0         \n",
      "_________________________________________________________________\n",
      "dense_5 (Dense)              (None, 16)                19362832  \n",
      "_________________________________________________________________\n",
      "dropout_4 (Dropout)          (None, 16)                0         \n",
      "_________________________________________________________________\n",
      "dense_6 (Dense)              (None, 8)                 136       \n",
      "=================================================================\n",
      "Total params: 19,367,352\n",
      "Trainable params: 19,367,352\n",
      "Non-trainable params: 0\n",
      "_________________________________________________________________\n"
     ]
    }
   ],
   "source": [
    "from tensorflow.keras.models import Sequential\n",
    "from tensorflow.keras.layers import Dense, Activation, Conv1D, MaxPool2D, Dropout, Flatten\n",
    "\n",
    "model = Sequential()\n",
    "model.add(Conv1D(128, kernel_size=(1), activation='relu', input_shape=(len(word_list),1)))\n",
    "model.add(Conv1D(32, (1), activation='relu'))\n",
    "model.add(Dropout(0.8)) # Dropout 25% of the nodes of the previous layer during training\n",
    "model.add(Flatten())     # Flatten, and add a fully connected layer\n",
    "model.add(Dense(16, activation='relu')) \n",
    "model.add(Dropout(0.2))\n",
    "model.add(Dense(8, activation='softmax')) # Last layer: 10 class nodes, with dropout\n",
    "model.summary()"
   ]
  },
  {
   "cell_type": "code",
   "execution_count": 22,
   "metadata": {},
   "outputs": [
    {
     "name": "stdout",
     "output_type": "stream",
     "text": [
      "Train on 10159 samples, validate on 2081 samples\n",
      "Epoch 1/5\n",
      "10159/10159 [==============================] - 352s 35ms/sample - loss: 1.8404 - acc: 0.3008 - val_loss: 1.6148 - val_acc: 0.4402\n",
      "Epoch 2/5\n",
      "10159/10159 [==============================] - 353s 35ms/sample - loss: 1.5647 - acc: 0.4019 - val_loss: 1.4716 - val_acc: 0.4733\n",
      "Epoch 3/5\n",
      "10159/10159 [==============================] - 374s 37ms/sample - loss: 1.4043 - acc: 0.4517 - val_loss: 1.4236 - val_acc: 0.4810\n",
      "Epoch 4/5\n",
      "10159/10159 [==============================] - 388s 38ms/sample - loss: 1.2965 - acc: 0.4913 - val_loss: 1.4237 - val_acc: 0.4762\n",
      "Epoch 5/5\n",
      "10159/10159 [==============================] - 370s 36ms/sample - loss: 1.2234 - acc: 0.5125 - val_loss: 1.4142 - val_acc: 0.4825\n"
     ]
    },
    {
     "data": {
      "text/plain": [
       "<tensorflow.python.keras.callbacks.History at 0x7f1a547b1cf8>"
      ]
     },
     "execution_count": 22,
     "metadata": {},
     "output_type": "execute_result"
    }
   ],
   "source": [
    "from tensorflow.keras.optimizers import Adam\n",
    "\n",
    "optimizer = Adam()\n",
    "model.compile(optimizer=optimizer, loss='categorical_crossentropy', metrics=['accuracy'])\n",
    "\n",
    "model.fit(cnn_lyrics_train, train_genres, epochs=5, batch_size=16, validation_split=17/100)"
   ]
  },
  {
   "cell_type": "code",
   "execution_count": 23,
   "metadata": {},
   "outputs": [
    {
     "name": "stdout",
     "output_type": "stream",
     "text": [
      "2160/2160 [==============================] - 18s 9ms/sample - loss: 1.4211 - acc: 0.4796\n"
     ]
    }
   ],
   "source": [
    "results = model.evaluate(cnn_lyrics_test, test_genres, batch_size=16)"
   ]
  },
  {
   "cell_type": "code",
   "execution_count": null,
   "metadata": {},
   "outputs": [],
   "source": []
  }
 ],
 "metadata": {
  "kernelspec": {
   "display_name": "Python 3",
   "language": "python",
   "name": "python3"
  },
  "language_info": {
   "codemirror_mode": {
    "name": "ipython",
    "version": 3
   },
   "file_extension": ".py",
   "mimetype": "text/x-python",
   "name": "python",
   "nbconvert_exporter": "python",
   "pygments_lexer": "ipython3",
   "version": "3.6.8"
  }
 },
 "nbformat": 4,
 "nbformat_minor": 2
}
