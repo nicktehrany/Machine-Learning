{
 "cells": [
  {
   "cell_type": "code",
   "execution_count": 1,
   "metadata": {},
   "outputs": [
    {
     "name": "stderr",
     "output_type": "stream",
     "text": [
      "[nltk_data] Downloading package wordnet to /Users/Robin/nltk_data...\n",
      "[nltk_data]   Package wordnet is already up-to-date!\n",
      "[nltk_data] Downloading package stopwords to /Users/Robin/nltk_data...\n",
      "[nltk_data]   Package stopwords is already up-to-date!\n"
     ]
    }
   ],
   "source": [
    "import numpy as np\n",
    "import pandas as pd # for loading data\n",
    "import re # for removing special characters\n",
    "from nltk.stem import WordNetLemmatizer\n",
    "wordnet_lemmatizer = WordNetLemmatizer()\n",
    "import nltk\n",
    "nltk.download('wordnet')\n",
    "nltk.download('stopwords')\n",
    "from nltk.corpus import stopwords # For removing stopwords"
   ]
  },
  {
   "cell_type": "code",
   "execution_count": 2,
   "metadata": {},
   "outputs": [],
   "source": [
    "df = pd.read_csv(\"dataset.csv\")\n",
    "df = df.drop(['Singer', 'Date', 'Tags'], axis=1)"
   ]
  },
  {
   "cell_type": "code",
   "execution_count": 3,
   "metadata": {},
   "outputs": [],
   "source": [
    "def get_index(word, word_list):\n",
    "    for index, value in enumerate(word_list):\n",
    "        if word == value:\n",
    "            return index"
   ]
  },
  {
   "cell_type": "markdown",
   "metadata": {},
   "source": [
    "## Creating a word list of all possible words from all Song Lyrics"
   ]
  },
  {
   "cell_type": "code",
   "execution_count": 4,
   "metadata": {},
   "outputs": [],
   "source": [
    "corpus = []\n",
    "lyrics = df['Lyrics']\n",
    "sw = stopwords.words(\"english\")\n",
    "word_list = []\n",
    "for i, value in df.iterrows():\n",
    "    text = re.sub('[^a-zA-Z]', ' ', str(lyrics[i])) # removes special characters\n",
    "    text = text.lower() # lowercases everything\n",
    "    text = text.split() # splits words\n",
    "    text = [wordnet_lemmatizer.lemmatize(word, pos=\"v\") for word in text if not word in set(sw)]\n",
    "    formatted_text = \"\"\n",
    "    for word in text:\n",
    "        if word not in word_list:\n",
    "            word_list.append(word)\n",
    "        formatted_text+=word+\" \"\n",
    "    corpus.append(formatted_text)\n",
    "    df['Lyrics'][i] = formatted_text\n",
    "lyrics = corpus\n",
    "\n",
    "#Cleaning variables to save some memory\n",
    "del corpus, sw, text"
   ]
  },
  {
   "cell_type": "markdown",
   "metadata": {},
   "source": [
    "### Function that creates a one-hot vector for the given text from the word_list"
   ]
  },
  {
   "cell_type": "code",
   "execution_count": 5,
   "metadata": {},
   "outputs": [],
   "source": [
    "from tensorflow.keras.utils import to_categorical\n",
    "\n",
    "def one_hot(text, word_list):\n",
    "    word_vector = np.zeros(shape=(1,len(word_list)))\n",
    "    text = text.split() # splits words\n",
    "    for w in text:\n",
    "        word_vector[0, get_index(w, word_list)] = 1\n",
    "    return word_vector[0]"
   ]
  },
  {
   "cell_type": "markdown",
   "metadata": {},
   "source": [
    "\n",
    "## Creating one-hot vector for genres"
   ]
  },
  {
   "cell_type": "code",
   "execution_count": 6,
   "metadata": {},
   "outputs": [],
   "source": [
    "from tensorflow.keras.utils import to_categorical\n",
    "genres = []\n",
    "\n",
    "for i, value in df.iterrows():\n",
    "    genre = df['Genre'][i]\n",
    "    index = 0\n",
    "    if genre == '[\\'Pop\\']': index = 0\n",
    "    elif genre == '[\\'Rock\\']': index = 1\n",
    "    elif genre == '[\\'Hip-Hop/Rap\\']': index = 2\n",
    "    elif genre == '[\\'Country\\']': index = 3\n",
    "    elif genre == '[\\'R&B/Soul\\']': index = 4\n",
    "    elif genre == '[\\'Metal\\']': index = 5\n",
    "    elif genre == '[\\'Alternative/Indie\\']': index = 6\n",
    "    elif genre == '[\\'Folk\\']': index = 7\n",
    "    genres.append(index)\n",
    "\n",
    "genres = to_categorical(genres, 8)"
   ]
  },
  {
   "cell_type": "markdown",
   "metadata": {},
   "source": [
    "## Replace all the lyrics with their respctive vector of word occurrences to be used as the input layer for the neural network"
   ]
  },
  {
   "cell_type": "code",
   "execution_count": 7,
   "metadata": {
    "scrolled": false
   },
   "outputs": [
    {
     "name": "stdout",
     "output_type": "stream",
     "text": [
      "(14400, 40677)\n"
     ]
    }
   ],
   "source": [
    "all_lyrics = np.zeros(shape=(len(df),len(word_list)))\n",
    "for index, value in df.iterrows():\n",
    "    all_lyrics[index] = one_hot(str(df['Lyrics'][index]), word_list)\n",
    "print(all_lyrics.shape)\n",
    "\n",
    "#Cleaning variables to save some memory\n",
    "del df"
   ]
  },
  {
   "cell_type": "markdown",
   "metadata": {},
   "source": [
    "## **Don't rerun the cell below, as this will result in new test/train sets. Can rerun all other cells except this one. Probably also don't want to rerun all cells above since they always do the exact same thing**"
   ]
  },
  {
   "cell_type": "code",
   "execution_count": 8,
   "metadata": {},
   "outputs": [],
   "source": [
    "from sklearn.model_selection import train_test_split\n",
    "\n",
    "lyrics_train, lyrics_test, genre_train, genre_test = train_test_split(all_lyrics, genres, train_size = 0.85, test_size = 0.15, shuffle=True) \n",
    "\n",
    "#Cleaning Lists, since they take up almost 5GB\n",
    "del all_lyrics, genres"
   ]
  },
  {
   "cell_type": "markdown",
   "metadata": {},
   "source": [
    "# Neural Network stuff \n",
    "## **Modify and run only the cells below to change the neural network**"
   ]
  },
  {
   "cell_type": "code",
   "execution_count": 124,
   "metadata": {},
   "outputs": [
    {
     "name": "stdout",
     "output_type": "stream",
     "text": [
      "Model: \"sequential_2\"\n",
      "_________________________________________________________________\n",
      "Layer (type)                 Output Shape              Param #   \n",
      "=================================================================\n",
      "dense_6 (Dense)              (None, 128)               5206784   \n",
      "_________________________________________________________________\n",
      "activation_4 (Activation)    (None, 128)               0         \n",
      "_________________________________________________________________\n",
      "dense_7 (Dense)              (None, 20)                2580      \n",
      "_________________________________________________________________\n",
      "dense_8 (Dense)              (None, 8)                 168       \n",
      "_________________________________________________________________\n",
      "activation_5 (Activation)    (None, 8)                 0         \n",
      "=================================================================\n",
      "Total params: 5,209,532\n",
      "Trainable params: 5,209,532\n",
      "Non-trainable params: 0\n",
      "_________________________________________________________________\n"
     ]
    }
   ],
   "source": [
    "from tensorflow.keras.models import Sequential\n",
    "from tensorflow.keras.layers import Dense, Activation\n",
    "\n",
    "model = Sequential()\n",
    "model.add(Dense(128, input_shape=(len(word_list),))) # first dense layer, 32 hidden units\n",
    "model.add(Activation('relu'))            # activation layer\n",
    "model.add(Dense(20)) \n",
    "model.add(Dense(8))                     # second dense layer\n",
    "model.add(Activation('softmax'))         # output class probabilities\n",
    "\n",
    "model.summary()"
   ]
  },
  {
   "cell_type": "code",
   "execution_count": 125,
   "metadata": {},
   "outputs": [],
   "source": [
    "from tensorflow.keras.optimizers import SGD, Adam\n",
    "\n",
    "optimizer = Adam(lr=0.001) # lr is the learning rate\n",
    "model.compile(optimizer=optimizer, loss='categorical_crossentropy', metrics=['accuracy'])"
   ]
  },
  {
   "cell_type": "code",
   "execution_count": 126,
   "metadata": {},
   "outputs": [
    {
     "name": "stdout",
     "output_type": "stream",
     "text": [
      "Train on 11016 samples, validate on 1224 samples\n",
      "Epoch 1/10\n",
      "11016/11016 [==============================] - 17s 2ms/sample - loss: 1.4223 - accuracy: 0.4778 - val_loss: 1.2761 - val_accuracy: 0.5458\n",
      "Epoch 2/10\n",
      "11016/11016 [==============================] - 14s 1ms/sample - loss: 0.6432 - accuracy: 0.7891 - val_loss: 1.3636 - val_accuracy: 0.5482\n",
      "Epoch 3/10\n",
      "11016/11016 [==============================] - 13s 1ms/sample - loss: 0.2990 - accuracy: 0.9112 - val_loss: 1.6059 - val_accuracy: 0.5335\n",
      "Epoch 4/10\n",
      "11016/11016 [==============================] - 13s 1ms/sample - loss: 0.1544 - accuracy: 0.9625 - val_loss: 1.9687 - val_accuracy: 0.5131\n",
      "Epoch 5/10\n",
      "11016/11016 [==============================] - 14s 1ms/sample - loss: 0.0879 - accuracy: 0.9837 - val_loss: 2.1201 - val_accuracy: 0.5212\n",
      "Epoch 6/10\n",
      "11016/11016 [==============================] - 14s 1ms/sample - loss: 0.0667 - accuracy: 0.9896 - val_loss: 2.2234 - val_accuracy: 0.5155\n",
      "Epoch 7/10\n",
      "11016/11016 [==============================] - 14s 1ms/sample - loss: 0.0612 - accuracy: 0.9906 - val_loss: 2.2954 - val_accuracy: 0.5074\n",
      "Epoch 8/10\n",
      "11016/11016 [==============================] - 14s 1ms/sample - loss: 0.0549 - accuracy: 0.9913 - val_loss: 2.3818 - val_accuracy: 0.5033\n",
      "Epoch 9/10\n",
      "11016/11016 [==============================] - 14s 1ms/sample - loss: 0.0510 - accuracy: 0.9919 - val_loss: 2.4546 - val_accuracy: 0.4959\n",
      "Epoch 10/10\n",
      "11016/11016 [==============================] - 14s 1ms/sample - loss: 0.0446 - accuracy: 0.9928 - val_loss: 2.7731 - val_accuracy: 0.4959\n"
     ]
    }
   ],
   "source": [
    "model.fit(lyrics_train, genre_train, epochs=10, validation_split=1/10);"
   ]
  },
  {
   "cell_type": "markdown",
   "metadata": {},
   "source": [
    "## Testing the Neural Network's performace + Confusion Matrix"
   ]
  },
  {
   "cell_type": "code",
   "execution_count": 127,
   "metadata": {},
   "outputs": [
    {
     "name": "stdout",
     "output_type": "stream",
     "text": [
      "2160/2160 [==============================] - 2s 913us/sample - loss: 2.8956 - accuracy: 0.5046\n"
     ]
    }
   ],
   "source": [
    "results = model.evaluate(lyrics_test, genre_test, batch_size=128)"
   ]
  },
  {
   "cell_type": "code",
   "execution_count": 128,
   "metadata": {},
   "outputs": [],
   "source": [
    "def one_hot_reverse():\n",
    "    \n",
    "    genres = []\n",
    "    genre_list = list(genre_test)\n",
    "\n",
    "    for i in range(len(genre_list)):\n",
    "        x = genre_list[i]\n",
    "        for index in range(0, 8):\n",
    "            #print(str(list(genre_test[index])))\n",
    "            if x[index] == 1.0:\n",
    "                #print(str(list(genre_test[index])))\n",
    "                genres.append(index)\n",
    "\n",
    "    return genres"
   ]
  },
  {
   "cell_type": "code",
   "execution_count": 129,
   "metadata": {},
   "outputs": [
    {
     "name": "stdout",
     "output_type": "stream",
     "text": [
      "[[ 81  32   7  15  57  16  15  41]\n",
      " [ 15  84   0  19  37  43  24  36]\n",
      " [  2   1 177   1  68   9   8   2]\n",
      " [  4  15   0 174  19   8   6  51]\n",
      " [ 10  18  13  20 191  11  10  11]\n",
      " [  4  31   3   6  12 171  16  24]\n",
      " [ 11  32   8  18  73  14  74  33]\n",
      " [  9  30   1  44  14  24  19 138]]\n"
     ]
    }
   ],
   "source": [
    "from sklearn.metrics import confusion_matrix\n",
    "\n",
    "\n",
    "y_pred=model.predict_classes(lyrics_test)\n",
    "cm=confusion_matrix(one_hot_reverse(),y_pred)\n",
    "print(cm)"
   ]
  },
  {
   "cell_type": "code",
   "execution_count": 130,
   "metadata": {},
   "outputs": [
    {
     "name": "stdout",
     "output_type": "stream",
     "text": [
      "                   Pop  Rock  Hip-Hop/Rap  Country  R&B/Soul  Metal  \\\n",
      "Pop                 81    32            7       15        57     16   \n",
      "Rock                15    84            0       19        37     43   \n",
      "Hip-Hop/Rap          2     1          177        1        68      9   \n",
      "Country              4    15            0      174        19      8   \n",
      "R&B/Soul            10    18           13       20       191     11   \n",
      "Metal                4    31            3        6        12    171   \n",
      "Alternative/Indie   11    32            8       18        73     14   \n",
      "Folk                 9    30            1       44        14     24   \n",
      "\n",
      "                   Alternative/Indie  Folk  \n",
      "Pop                               15    41  \n",
      "Rock                              24    36  \n",
      "Hip-Hop/Rap                        8     2  \n",
      "Country                            6    51  \n",
      "R&B/Soul                          10    11  \n",
      "Metal                             16    24  \n",
      "Alternative/Indie                 74    33  \n",
      "Folk                              19   138  \n"
     ]
    },
    {
     "data": {
      "text/plain": [
       "(8.0, 0.0)"
      ]
     },
     "execution_count": 130,
     "metadata": {},
     "output_type": "execute_result"
    },
    {
     "data": {
      "image/png": "[encoded data removed]",
      "text/plain": [
       "<Figure size 720x504 with 2 Axes>"
      ]
     },
     "metadata": {},
     "output_type": "display_data"
    }
   ],
   "source": [
    "import seaborn as sn\n",
    "import pandas as pd\n",
    "import matplotlib.pyplot as plt\n",
    "\n",
    "genre_list = ['Pop','Rock', 'Hip-Hop/Rap', 'Country', 'R&B/Soul', 'Metal', 'Alternative/Indie', 'Folk']\n",
    "\n",
    "df_cm = pd.DataFrame(cm, index = genre_list, columns = genre_list)\n",
    "print(df_cm)\n",
    "plt.figure(figsize = (10,7))\n",
    "sn.heatmap(df_cm, annot=True, linewidth=0.5, fmt='g', cmap=\"BuPu\")\n",
    "b, t = plt.ylim() # discover the values for bottom and top\n",
    "b += 0.5 # Add 0.5 to the bottom\n",
    "t -= 0.5 # Subtract 0.5 from the top\n",
    "plt.ylim(b, t) # update the ylim(bottom, top) values"
   ]
  },
  {
   "cell_type": "code",
   "execution_count": null,
   "metadata": {},
   "outputs": [],
   "source": []
  }
 ],
 "metadata": {
  "kernelspec": {
   "display_name": "Python 3",
   "language": "python",
   "name": "python3"
  },
  "language_info": {
   "codemirror_mode": {
    "name": "ipython",
    "version": 3
   },
   "file_extension": ".py",
   "mimetype": "text/x-python",
   "name": "python",
   "nbconvert_exporter": "python",
   "pygments_lexer": "ipython3",
   "version": "3.7.4"
  }
 },
 "nbformat": 4,
 "nbformat_minor": 2
}
