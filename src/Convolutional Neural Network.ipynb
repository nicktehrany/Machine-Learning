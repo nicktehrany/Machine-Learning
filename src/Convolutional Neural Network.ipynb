{
 "cells": [
  {
   "cell_type": "code",
   "execution_count": 1,
   "metadata": {},
   "outputs": [],
   "source": [
    "import numpy as np\n",
    "import pandas as pd # for loading data"
   ]
  },
  {
   "cell_type": "code",
   "execution_count": 2,
   "metadata": {},
   "outputs": [
    {
     "name": "stdout",
     "output_type": "stream",
     "text": [
      "/home/nicktehrany/Documents/Uni/3rd Year/P4/Machine Learning/Project\n"
     ]
    }
   ],
   "source": [
    "cd .."
   ]
  },
  {
   "cell_type": "code",
   "execution_count": 3,
   "metadata": {},
   "outputs": [
    {
     "name": "stderr",
     "output_type": "stream",
     "text": [
      "/home/nicktehrany/.local/lib/python3.6/site-packages/tensorflow/python/framework/dtypes.py:516: FutureWarning: Passing (type, 1) or '1type' as a synonym of type is deprecated; in a future version of numpy, it will be understood as (type, (1,)) / '(1,)type'.\n",
      "  _np_qint8 = np.dtype([(\"qint8\", np.int8, 1)])\n",
      "/home/nicktehrany/.local/lib/python3.6/site-packages/tensorflow/python/framework/dtypes.py:517: FutureWarning: Passing (type, 1) or '1type' as a synonym of type is deprecated; in a future version of numpy, it will be understood as (type, (1,)) / '(1,)type'.\n",
      "  _np_quint8 = np.dtype([(\"quint8\", np.uint8, 1)])\n",
      "/home/nicktehrany/.local/lib/python3.6/site-packages/tensorflow/python/framework/dtypes.py:518: FutureWarning: Passing (type, 1) or '1type' as a synonym of type is deprecated; in a future version of numpy, it will be understood as (type, (1,)) / '(1,)type'.\n",
      "  _np_qint16 = np.dtype([(\"qint16\", np.int16, 1)])\n",
      "/home/nicktehrany/.local/lib/python3.6/site-packages/tensorflow/python/framework/dtypes.py:519: FutureWarning: Passing (type, 1) or '1type' as a synonym of type is deprecated; in a future version of numpy, it will be understood as (type, (1,)) / '(1,)type'.\n",
      "  _np_quint16 = np.dtype([(\"quint16\", np.uint16, 1)])\n",
      "/home/nicktehrany/.local/lib/python3.6/site-packages/tensorflow/python/framework/dtypes.py:520: FutureWarning: Passing (type, 1) or '1type' as a synonym of type is deprecated; in a future version of numpy, it will be understood as (type, (1,)) / '(1,)type'.\n",
      "  _np_qint32 = np.dtype([(\"qint32\", np.int32, 1)])\n",
      "/home/nicktehrany/.local/lib/python3.6/site-packages/tensorflow/python/framework/dtypes.py:525: FutureWarning: Passing (type, 1) or '1type' as a synonym of type is deprecated; in a future version of numpy, it will be understood as (type, (1,)) / '(1,)type'.\n",
      "  np_resource = np.dtype([(\"resource\", np.ubyte, 1)])\n",
      "/home/nicktehrany/.local/lib/python3.6/site-packages/tensorboard/compat/tensorflow_stub/dtypes.py:541: FutureWarning: Passing (type, 1) or '1type' as a synonym of type is deprecated; in a future version of numpy, it will be understood as (type, (1,)) / '(1,)type'.\n",
      "  _np_qint8 = np.dtype([(\"qint8\", np.int8, 1)])\n",
      "/home/nicktehrany/.local/lib/python3.6/site-packages/tensorboard/compat/tensorflow_stub/dtypes.py:542: FutureWarning: Passing (type, 1) or '1type' as a synonym of type is deprecated; in a future version of numpy, it will be understood as (type, (1,)) / '(1,)type'.\n",
      "  _np_quint8 = np.dtype([(\"quint8\", np.uint8, 1)])\n",
      "/home/nicktehrany/.local/lib/python3.6/site-packages/tensorboard/compat/tensorflow_stub/dtypes.py:543: FutureWarning: Passing (type, 1) or '1type' as a synonym of type is deprecated; in a future version of numpy, it will be understood as (type, (1,)) / '(1,)type'.\n",
      "  _np_qint16 = np.dtype([(\"qint16\", np.int16, 1)])\n",
      "/home/nicktehrany/.local/lib/python3.6/site-packages/tensorboard/compat/tensorflow_stub/dtypes.py:544: FutureWarning: Passing (type, 1) or '1type' as a synonym of type is deprecated; in a future version of numpy, it will be understood as (type, (1,)) / '(1,)type'.\n",
      "  _np_quint16 = np.dtype([(\"quint16\", np.uint16, 1)])\n",
      "/home/nicktehrany/.local/lib/python3.6/site-packages/tensorboard/compat/tensorflow_stub/dtypes.py:545: FutureWarning: Passing (type, 1) or '1type' as a synonym of type is deprecated; in a future version of numpy, it will be understood as (type, (1,)) / '(1,)type'.\n",
      "  _np_qint32 = np.dtype([(\"qint32\", np.int32, 1)])\n",
      "/home/nicktehrany/.local/lib/python3.6/site-packages/tensorboard/compat/tensorflow_stub/dtypes.py:550: FutureWarning: Passing (type, 1) or '1type' as a synonym of type is deprecated; in a future version of numpy, it will be understood as (type, (1,)) / '(1,)type'.\n",
      "  np_resource = np.dtype([(\"resource\", np.ubyte, 1)])\n",
      "[nltk_data] Downloading package wordnet to\n",
      "[nltk_data]     /home/nicktehrany/nltk_data...\n",
      "[nltk_data]   Package wordnet is already up-to-date!\n",
      "[nltk_data] Downloading package stopwords to\n",
      "[nltk_data]     /home/nicktehrany/nltk_data...\n",
      "[nltk_data]   Package stopwords is already up-to-date!\n"
     ]
    }
   ],
   "source": [
    "# Importing our own Functions\n",
    "from util.helperfunctions import one_hot, one_hot_genres, clean_text, one_hot_reverse"
   ]
  },
  {
   "cell_type": "code",
   "execution_count": 4,
   "metadata": {},
   "outputs": [
    {
     "name": "stdout",
     "output_type": "stream",
     "text": [
      "/home/nicktehrany/Documents/Uni/3rd Year/P4/Machine Learning/Project/src\n"
     ]
    }
   ],
   "source": [
    "cd src"
   ]
  },
  {
   "cell_type": "code",
   "execution_count": 5,
   "metadata": {},
   "outputs": [],
   "source": [
    "train_df = pd.read_csv(\"train.csv\")"
   ]
  },
  {
   "cell_type": "markdown",
   "metadata": {},
   "source": [
    "## Cleaning the test set lyrics and creating One-Hots for train data's genres and just cleaned lyrics"
   ]
  },
  {
   "cell_type": "code",
   "execution_count": 6,
   "metadata": {},
   "outputs": [],
   "source": [
    "lyrics, word_list = clean_text(train_df['Lyrics'], 1)\n",
    "\n",
    "# writing cleaned text back to df\n",
    "index = 0\n",
    "for text in lyrics:\n",
    "    train_df['Lyrics'][index] = text\n",
    "    index+=1\n",
    "del lyrics"
   ]
  },
  {
   "cell_type": "code",
   "execution_count": 7,
   "metadata": {},
   "outputs": [],
   "source": [
    "train_genres = one_hot_genres(train_df['Genre'])"
   ]
  },
  {
   "cell_type": "markdown",
   "metadata": {},
   "source": [
    "## Replace all the lyrics with their respctive vector of word occurrences to be used as the input layer for the neural network"
   ]
  },
  {
   "cell_type": "code",
   "execution_count": 10,
   "metadata": {
    "scrolled": false
   },
   "outputs": [
    {
     "name": "stdout",
     "output_type": "stream",
     "text": [
      "(10098, 34260)\n"
     ]
    }
   ],
   "source": [
    "train_lyrics = np.zeros(shape=(len(train_df),len(word_list)))\n",
    "for index, value in train_df.iterrows():\n",
    "    train_lyrics[index] = one_hot(str(train_df['Lyrics'][index]), word_list, len(word_list), 1)\n",
    "print(train_lyrics.shape)\n",
    "lyrics_size = len(word_list)\n",
    "\n",
    "# Cleaning no more used variables\n",
    "del train_df"
   ]
  },
  {
   "cell_type": "markdown",
   "metadata": {},
   "source": [
    "## Preparing Validation Set"
   ]
  },
  {
   "cell_type": "code",
   "execution_count": 11,
   "metadata": {},
   "outputs": [],
   "source": [
    "val_df = pd.read_csv(\"validation.csv\")\n",
    "lyrics, dummy_list = clean_text(val_df['Lyrics'], 0)\n",
    "\n",
    "# writing cleaned text back to df\n",
    "index = 0\n",
    "for text in lyrics:\n",
    "    val_df['Lyrics'][index] = text\n",
    "    index+=1\n",
    "del lyrics"
   ]
  },
  {
   "cell_type": "code",
   "execution_count": 12,
   "metadata": {},
   "outputs": [],
   "source": [
    "val_genres = one_hot_genres(val_df['Genre'])"
   ]
  },
  {
   "cell_type": "code",
   "execution_count": 13,
   "metadata": {},
   "outputs": [
    {
     "name": "stdout",
     "output_type": "stream",
     "text": [
      "(2142, 34260)\n"
     ]
    }
   ],
   "source": [
    "val_lyrics = np.zeros(shape=(len(val_df), lyrics_size))\n",
    "for index, value in val_df.iterrows():\n",
    "    val_lyrics[index] = one_hot(str(val_df['Lyrics'][index]), word_list, lyrics_size, 1)\n",
    "print(val_lyrics.shape)\n",
    "\n",
    "# Cleaning no more used variables\n",
    "del val_df"
   ]
  },
  {
   "cell_type": "markdown",
   "metadata": {},
   "source": [
    "## Cleaning the test set lyrics and creating One-Hots for test data's genres and just cleaned lyrics"
   ]
  },
  {
   "cell_type": "code",
   "execution_count": 14,
   "metadata": {},
   "outputs": [],
   "source": [
    "test_df = pd.read_csv(\"test.csv\")\n",
    "lyrics, dummy_list = clean_text(test_df['Lyrics'], 0)\n",
    "\n",
    "# writing cleaned text back to df\n",
    "index = 0\n",
    "for text in lyrics:\n",
    "    test_df['Lyrics'][index] = text\n",
    "    index+=1\n",
    "del lyrics"
   ]
  },
  {
   "cell_type": "code",
   "execution_count": 15,
   "metadata": {},
   "outputs": [],
   "source": [
    "test_genres = one_hot_genres(test_df['Genre'])"
   ]
  },
  {
   "cell_type": "code",
   "execution_count": 16,
   "metadata": {},
   "outputs": [
    {
     "name": "stdout",
     "output_type": "stream",
     "text": [
      "(2160, 34260)\n"
     ]
    }
   ],
   "source": [
    "test_lyrics = np.zeros(shape=(len(test_df), lyrics_size))\n",
    "for index, value in test_df.iterrows():\n",
    "    test_lyrics[index] = one_hot(str(test_df['Lyrics'][index]), word_list, lyrics_size, 1)\n",
    "print(test_lyrics.shape)\n",
    "\n",
    "# Cleaning no more used variables\n",
    "del test_df"
   ]
  },
  {
   "cell_type": "markdown",
   "metadata": {},
   "source": [
    "## **Don't rerun the cell below, as this will result in adding dimensions to the sets, which will not work! Can rerun all other cells except this one.**"
   ]
  },
  {
   "cell_type": "code",
   "execution_count": 17,
   "metadata": {},
   "outputs": [],
   "source": [
    "cnn_lyrics_train = train_lyrics[:, :, None]\n",
    "cnn_lyrics_val = val_lyrics[:, :, None]\n",
    "cnn_lyrics_test = test_lyrics[:, :, None]"
   ]
  },
  {
   "cell_type": "markdown",
   "metadata": {},
   "source": [
    "## Convolutional Neural Network"
   ]
  },
  {
   "cell_type": "code",
   "execution_count": 18,
   "metadata": {},
   "outputs": [
    {
     "name": "stdout",
     "output_type": "stream",
     "text": [
      "WARNING:tensorflow:From /home/nicktehrany/.local/lib/python3.6/site-packages/tensorflow/python/ops/init_ops.py:1251: calling VarianceScaling.__init__ (from tensorflow.python.ops.init_ops) with dtype is deprecated and will be removed in a future version.\n",
      "Instructions for updating:\n",
      "Call initializer instance with the dtype argument instead of passing it to the constructor\n",
      "WARNING:tensorflow:Large dropout rate: 0.8 (>0.5). In TensorFlow 2.x, dropout() uses dropout rate instead of keep_prob. Please ensure that this is intended.\n",
      "Model: \"sequential\"\n",
      "_________________________________________________________________\n",
      "Layer (type)                 Output Shape              Param #   \n",
      "=================================================================\n",
      "conv1d (Conv1D)              (None, 34260, 128)        256       \n",
      "_________________________________________________________________\n",
      "conv1d_1 (Conv1D)            (None, 34260, 32)         4128      \n",
      "_________________________________________________________________\n",
      "dropout (Dropout)            (None, 34260, 32)         0         \n",
      "_________________________________________________________________\n",
      "flatten (Flatten)            (None, 1096320)           0         \n",
      "_________________________________________________________________\n",
      "dense (Dense)                (None, 16)                17541136  \n",
      "_________________________________________________________________\n",
      "dropout_1 (Dropout)          (None, 16)                0         \n",
      "_________________________________________________________________\n",
      "dense_1 (Dense)              (None, 8)                 136       \n",
      "=================================================================\n",
      "Total params: 17,545,656\n",
      "Trainable params: 17,545,656\n",
      "Non-trainable params: 0\n",
      "_________________________________________________________________\n"
     ]
    }
   ],
   "source": [
    "from tensorflow.keras.models import Sequential\n",
    "from tensorflow.keras.layers import Dense, Activation, Conv1D, MaxPool2D, Dropout, Flatten\n",
    "\n",
    "model = Sequential()\n",
    "model.add(Conv1D(128, kernel_size=(1), activation='relu', input_shape=(len(word_list),1)))\n",
    "model.add(Conv1D(32, (1), activation='relu'))\n",
    "model.add(Dropout(0.8)) # Dropout 25% of the nodes of the previous layer during training\n",
    "model.add(Flatten())     # Flatten, and add a fully connected layer\n",
    "model.add(Dense(16, activation='relu')) \n",
    "model.add(Dropout(0.2))\n",
    "model.add(Dense(8, activation='softmax')) # Last layer: 10 class nodes, with dropout\n",
    "model.summary()"
   ]
  },
  {
   "cell_type": "code",
   "execution_count": 22,
   "metadata": {},
   "outputs": [
    {
     "name": "stdout",
     "output_type": "stream",
     "text": [
      "Train on 10098 samples, validate on 2142 samples\n",
      "Epoch 1/5\n",
      "10098/10098 [==============================] - 337s 33ms/sample - loss: 1.8077 - acc: 0.3215 - val_loss: 1.5380 - val_acc: 0.4734\n",
      "Epoch 2/5\n",
      "10098/10098 [==============================] - 399s 39ms/sample - loss: 1.4576 - acc: 0.4629 - val_loss: 1.3846 - val_acc: 0.5093\n",
      "Epoch 3/5\n",
      "10098/10098 [==============================] - 313s 31ms/sample - loss: 1.2533 - acc: 0.5364 - val_loss: 1.3331 - val_acc: 0.5271\n",
      "Epoch 4/5\n",
      "10098/10098 [==============================] - 314s 31ms/sample - loss: 1.1045 - acc: 0.5948 - val_loss: 1.3407 - val_acc: 0.5266\n",
      "Epoch 5/5\n",
      "10098/10098 [==============================] - 316s 31ms/sample - loss: 1.0138 - acc: 0.6284 - val_loss: 1.3663 - val_acc: 0.5294\n"
     ]
    },
    {
     "data": {
      "text/plain": [
       "<tensorflow.python.keras.callbacks.History at 0x7fb9530177b8>"
      ]
     },
     "execution_count": 22,
     "metadata": {},
     "output_type": "execute_result"
    }
   ],
   "source": [
    "from tensorflow.keras.optimizers import Adam\n",
    "\n",
    "optimizer = Adam()\n",
    "model.compile(optimizer=optimizer, loss='categorical_crossentropy', metrics=['accuracy'])\n",
    "\n",
    "model.fit(cnn_lyrics_train, train_genres, epochs=5, shuffle=True, batch_size=16, validation_data=(cnn_lyrics_val, val_genres))"
   ]
  },
  {
   "cell_type": "code",
   "execution_count": 23,
   "metadata": {},
   "outputs": [
    {
     "name": "stdout",
     "output_type": "stream",
     "text": [
      "2160/2160 [==============================] - 17s 8ms/sample - loss: 1.3347 - acc: 0.5417\n"
     ]
    }
   ],
   "source": [
    "results = model.evaluate(cnn_lyrics_test, test_genres, batch_size=16)"
   ]
  },
  {
   "cell_type": "code",
   "execution_count": 24,
   "metadata": {},
   "outputs": [
    {
     "name": "stdout",
     "output_type": "stream",
     "text": [
      "[[ 90  48  11  29  32  30  16  30]\n",
      " [ 20  90   1  23  12  64  20  31]\n",
      " [  3   1 249   2  27   1   8   0]\n",
      " [  8  22   0 170   7   9   1  39]\n",
      " [ 15  15  32  11 152  12  26  11]\n",
      " [  6  28   4   5   4 165   6  21]\n",
      " [ 16  35  23  19  35  30 104  23]\n",
      " [  8  38   0  31   7  22  12 150]]\n"
     ]
    }
   ],
   "source": [
    "from sklearn.metrics import confusion_matrix\n",
    "\n",
    "y_pred=model.predict_classes(cnn_lyrics_test)\n",
    "cm=confusion_matrix(one_hot_reverse(test_genres),y_pred)\n",
    "print(cm)"
   ]
  },
  {
   "cell_type": "code",
   "execution_count": 25,
   "metadata": {},
   "outputs": [
    {
     "name": "stdout",
     "output_type": "stream",
     "text": [
      "                   Pop  Rock  Hip-Hop/Rap  Country  R&B/Soul  Metal  \\\n",
      "Pop                 90    48           11       29        32     30   \n",
      "Rock                20    90            1       23        12     64   \n",
      "Hip-Hop/Rap          3     1          249        2        27      1   \n",
      "Country              8    22            0      170         7      9   \n",
      "R&B/Soul            15    15           32       11       152     12   \n",
      "Metal                6    28            4        5         4    165   \n",
      "Alternative/Indie   16    35           23       19        35     30   \n",
      "Folk                 8    38            0       31         7     22   \n",
      "\n",
      "                   Alternative/Indie  Folk  \n",
      "Pop                               16    30  \n",
      "Rock                              20    31  \n",
      "Hip-Hop/Rap                        8     0  \n",
      "Country                            1    39  \n",
      "R&B/Soul                          26    11  \n",
      "Metal                              6    21  \n",
      "Alternative/Indie                104    23  \n",
      "Folk                              12   150  \n"
     ]
    },
    {
     "data": {
      "text/plain": [
       "(8.0, 0.0)"
      ]
     },
     "execution_count": 25,
     "metadata": {},
     "output_type": "execute_result"
    }
   ],
   "source": [
    "import seaborn as sn\n",
    "import pandas as pd\n",
    "import matplotlib.pyplot as plt\n",
    "\n",
    "genre_list = ['Pop','Rock', 'Hip-Hop/Rap', 'Country', 'R&B/Soul', 'Metal', 'Alternative/Indie', 'Folk']\n",
    "\n",
    "df_cm = pd.DataFrame(cm, index = genre_list, columns = genre_list)\n",
    "print(df_cm)\n",
    "plt.figure(figsize = (10,7))\n",
    "sn.heatmap(df_cm, annot=True, linewidth=0.5, fmt='g', cmap=\"BuPu\")\n",
    "b, t = plt.ylim() # discover the values for bottom and top\n",
    "b += 0.5 # Add 0.5 to the bottom\n",
    "t -= 0.5 # Subtract 0.5 from the top\n",
    "plt.ylim(b, t) # update the ylim(bottom, top) values"
   ]
  },
  {
   "cell_type": "code",
   "execution_count": null,
   "metadata": {},
   "outputs": [],
   "source": []
  }
 ],
 "metadata": {
  "kernelspec": {
   "display_name": "Python 3",
   "language": "python",
   "name": "python3"
  },
  "language_info": {
   "codemirror_mode": {
    "name": "ipython",
    "version": 3
   },
   "file_extension": ".py",
   "mimetype": "text/x-python",
   "name": "python",
   "nbconvert_exporter": "python",
   "pygments_lexer": "ipython3",
   "version": "3.6.8"
  }
 },
 "nbformat": 4,
 "nbformat_minor": 2
}
