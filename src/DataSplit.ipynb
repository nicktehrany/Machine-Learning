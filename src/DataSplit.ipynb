{
 "cells": [
  {
   "cell_type": "code",
   "execution_count": 5,
   "metadata": {},
   "outputs": [
    {
     "name": "stdout",
     "output_type": "stream",
     "text": [
      "12240\n"
     ]
    }
   ],
   "source": [
    "import pandas as pd # for loading data\n",
    "from sklearn.model_selection import train_test_split\n",
    "import random\n",
    "\n",
    "df = pd.read_csv(\"dataset.csv\")\n",
    "df = df.drop(['Singer', 'Date', 'Tags'], axis=1)\n",
    "all_lyrics = df['Lyrics']\n",
    "genres = df['Genre']\n",
    "lyrics_train, lyrics_test, genre_train, genre_test = train_test_split(all_lyrics, genres, train_size = 0.85, test_size = 0.15, shuffle=True,random_state=random.randint(0,9999999)) \n"
   ]
  },
  {
   "cell_type": "code",
   "execution_count": 16,
   "metadata": {},
   "outputs": [
    {
     "name": "stdout",
     "output_type": "stream",
     "text": [
      "                                                  Lyrics  \\\n",
      "0      \\nGo\\n\\n\\nI want to tear a big hole in what is...   \n",
      "1      \\nEverybody, just clap your hands if you're re...   \n",
      "2      Making believe that you still love me\\nIt's le...   \n",
      "3      Aww yeah, uhh, uhh\\nHolla if ya hear me, yeah\\...   \n",
      "4      The ponies run, the girls are young\\nThe odds ...   \n",
      "...                                                  ...   \n",
      "12235  \\nTuck me into where it's freezing\\nTuck me in...   \n",
      "12236  \\nI feel so extraordinary\\nSomething's got a h...   \n",
      "12237  \\nBaby, you better get some sleep while you ca...   \n",
      "12238  Trapped\\n\\n\\nYou can dance through the night\\n...   \n",
      "12239  Blue night I got you on my mind\\nBlue night I ...   \n",
      "\n",
      "                       Genre  \n",
      "0                  ['Metal']  \n",
      "1      ['Alternative/Indie']  \n",
      "2                ['Country']  \n",
      "3            ['Hip-Hop/Rap']  \n",
      "4                   ['Folk']  \n",
      "...                      ...  \n",
      "12235               ['Rock']  \n",
      "12236               ['Rock']  \n",
      "12237               ['Rock']  \n",
      "12238               ['Rock']  \n",
      "12239            ['Country']  \n",
      "\n",
      "[12240 rows x 2 columns]\n",
      "                                                 Lyrics                  Genre\n",
      "0     \\nWho got all that old money, plus that new ch...        ['Hip-Hop/Rap']\n",
      "1     \\nWho's gonna throw that minstrel boy a coin ?...               ['Folk']\n",
      "2     \\nI'll give you something to think about\\nGave...  ['Alternative/Indie']\n",
      "3     \\nI can not resist your call\\nI can not resist...                ['Pop']\n",
      "4     It's true that all the men you knew were deale...               ['Folk']\n",
      "...                                                 ...                    ...\n",
      "2155  \\nLooking back at the beginning of this\\nAnd h...               ['Rock']\n",
      "2156  \\nAsk me no questions, I will tell you no lies...  ['Alternative/Indie']\n",
      "2157  \\nI want to tell you how it's going to be\\nYou...               ['Folk']\n",
      "2158  \\nTowing the line\\nI watched the host drink al...               ['Folk']\n",
      "2159  \\nSittin' in the kitchen, a house in Macon\\nLo...  ['Alternative/Indie']\n",
      "\n",
      "[2160 rows x 2 columns]\n"
     ]
    }
   ],
   "source": [
    "train_df = pd.DataFrame({ \"Lyrics\" :lyrics_train, \"Genre\": genre_train}).reset_index(drop=True)\n",
    "train_df.to_csv('train.csv')\n",
    "\n",
    "test_df = pd.DataFrame({ \"Lyrics\" :lyrics_test, \"Genre\": genre_test}).reset_index(drop=True)\n",
    "test_df.to_csv('test.csv')\n",
    "\n",
    "print(train_df)\n",
    "print(test_df)"
   ]
  },
  {
   "cell_type": "code",
   "execution_count": null,
   "metadata": {},
   "outputs": [],
   "source": []
  }
 ],
 "metadata": {
  "kernelspec": {
   "display_name": "Python 3",
   "language": "python",
   "name": "python3"
  },
  "language_info": {
   "codemirror_mode": {
    "name": "ipython",
    "version": 3
   },
   "file_extension": ".py",
   "mimetype": "text/x-python",
   "name": "python",
   "nbconvert_exporter": "python",
   "pygments_lexer": "ipython3",
   "version": "3.6.8"
  }
 },
 "nbformat": 4,
 "nbformat_minor": 2
}
