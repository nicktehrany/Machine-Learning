{
 "cells": [
  {
   "cell_type": "code",
   "execution_count": 5,
   "metadata": {},
   "outputs": [
    {
     "name": "stdout",
     "output_type": "stream",
     "text": [
      "12240\n"
     ]
    }
   ],
   "source": [
    "import pandas as pd # for loading data\n",
    "from sklearn.model_selection import train_test_split\n",
    "import random\n",
    "\n",
    "df = pd.read_csv(\"dataset.csv\")\n",
    "df = df.drop(['Singer', 'Date', 'Tags'], axis=1)\n",
    "all_lyrics = df['Lyrics']\n",
    "genres = df['Genre']\n",
    "lyrics_train, lyrics_test, genre_train, genre_test = train_test_split(all_lyrics, genres, train_size = 0.85, test_size = 0.15, shuffle=True,random_state=random.randint(0,9999999)) \n"
   ]
  },
  {
   "cell_type": "code",
   "execution_count": 15,
   "metadata": {},
   "outputs": [
    {
     "name": "stdout",
     "output_type": "stream",
     "text": [
      "                                                 Lyrics                  Genre\n",
      "0     \\nWho got all that old money, plus that new ch...        ['Hip-Hop/Rap']\n",
      "1     \\nWho's gonna throw that minstrel boy a coin ?...               ['Folk']\n",
      "2     \\nI'll give you something to think about\\nGave...  ['Alternative/Indie']\n",
      "3     \\nI can not resist your call\\nI can not resist...                ['Pop']\n",
      "4     It's true that all the men you knew were deale...               ['Folk']\n",
      "...                                                 ...                    ...\n",
      "2155  \\nLooking back at the beginning of this\\nAnd h...               ['Rock']\n",
      "2156  \\nAsk me no questions, I will tell you no lies...  ['Alternative/Indie']\n",
      "2157  \\nI want to tell you how it's going to be\\nYou...               ['Folk']\n",
      "2158  \\nTowing the line\\nI watched the host drink al...               ['Folk']\n",
      "2159  \\nSittin' in the kitchen, a house in Macon\\nLo...  ['Alternative/Indie']\n",
      "\n",
      "[2160 rows x 2 columns]\n"
     ]
    }
   ],
   "source": [
    "train_df = pd.DataFrame({ \"Lyrics\" :lyrics_train, \"Genre\": genre_train}).reset_index(drop=True)\n",
    "df.to_csv('train.csv', index=False)\n",
    "\n",
    "test_df = pd.DataFrame({ \"Lyrics\" :lyrics_test, \"Genre\": genre_test}).reset_index(drop=True)\n",
    "df.to_csv('test.csv', index=False)"
   ]
  },
  {
   "cell_type": "code",
   "execution_count": null,
   "metadata": {},
   "outputs": [],
   "source": []
  }
 ],
 "metadata": {
  "kernelspec": {
   "display_name": "Python 3",
   "language": "python",
   "name": "python3"
  },
  "language_info": {
   "codemirror_mode": {
    "name": "ipython",
    "version": 3
   },
   "file_extension": ".py",
   "mimetype": "text/x-python",
   "name": "python",
   "nbconvert_exporter": "python",
   "pygments_lexer": "ipython3",
   "version": "3.6.8"
  }
 },
 "nbformat": 4,
 "nbformat_minor": 2
}
